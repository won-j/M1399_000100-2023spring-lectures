{
 "cells": [
  {
   "cell_type": "markdown",
   "id": "5a2413e8-f85e-4986-a755-43d8bcd20151",
   "metadata": {},
   "source": [
    "# Racket in Jupyter lab"
   ]
  },
  {
   "cell_type": "code",
   "execution_count": 1,
   "id": "48c72e56-139c-45c7-aef8-a62b98fc5c59",
   "metadata": {},
   "outputs": [
    {
     "name": "stdout",
     "output_type": "stream",
     "text": [
      "Hello world!"
     ]
    }
   ],
   "source": [
    "(printf \"Hello world!\")"
   ]
  },
  {
   "cell_type": "code",
   "execution_count": 2,
   "id": "e4dff461-2253-4e5d-85db-a108c9d0004e",
   "metadata": {},
   "outputs": [
    {
     "data": {
      "text/html": [
       "<code><img style=\"display: inline; vertical-align: baseline; padding: 0pt; margin: 0pt; border: 0pt\" src=\"data:image/png;base64,iVBORw0KGgoAAAANSUhEUgAAABQAAAAUCAYAAACNiR0NAAAANElEQVQ4jWP8z8Dwn4EIwEiM\r\n",
       "IgYGBiYi1RENRg0cNXAwGMjIQGROIUoRw1Dw8qiBowaSAQBAOAQklfK8SQAAAABJRU5ErkJg\r\n",
       "gg==\r\n",
       "\"/></code>"
      ],
      "text/plain": [
       "(pict '(picture 20 20 (put 0 10 #7=(picture 20 10 (put 0 0 #4=(color \"red\" #0=(prog #<procedure:...rivate/utils.rkt:386:8> 10))) (put 10 0 #3=(color \"black\" #1=(prog #<procedure:...rivate/utils.rkt:386:8> 10))))) (put 0 0 #8=(picture 20 10 (put 0 0 #3#) (put 10 0 #4#)))) 20 20 10 0 (list (child (pict #7# 20 10 10 0 (list (child #2=(pict #4# 10 10 10 0 (list (child (pict #0# 10 10 10 0 '() #f #f) 0 0 1 1 0 0)) #f #f) 0 0 1 1 0 0) (child #5=(pict #3# 10 10 10 0 (list (child (pict #1# 10 10 10 0 '() #f #f) 0 0 1 1 0 0)) #f #f) 10 0 1 1 0 0)) #f #5#) 0 10 1 1 0 0) (child #6=(pict #8# 20 10 10 0 (list (child #5# 0 0 1 1 0 0) (child #2# 10 0 1 1 0 0)) #f #2#) 0 0 1 1 0 0)) #f (list #6# #2#))"
      ]
     },
     "execution_count": 2,
     "metadata": {},
     "output_type": "execute_result"
    }
   ],
   "source": [
    "(require pict)\n",
    "\n",
    "(define (checker p1 p2)\n",
    "  (let ([p12 (hc-append p1 p2)]\n",
    "        [p21 (hc-append p2 p1)])\n",
    "    (vc-append p12 p21)))\n",
    "\n",
    "(checker (colorize (filled-rectangle 10 10) \"red\")\n",
    "         (colorize (filled-rectangle 10 10) \"black\"))"
   ]
  },
  {
   "cell_type": "code",
   "execution_count": null,
   "id": "9cdab26f-2331-4adc-9e66-786447c9c2f6",
   "metadata": {},
   "outputs": [],
   "source": []
  }
 ],
 "metadata": {
  "kernelspec": {
   "display_name": "Racket",
   "language": "racket",
   "name": "racket"
  },
  "language_info": {
   "codemirror_mode": "scheme",
   "file_extension": ".rkt",
   "mimetype": "text/x-racket",
   "name": "Racket",
   "pygments_lexer": "racket",
   "version": "7.9"
  }
 },
 "nbformat": 4,
 "nbformat_minor": 5
}
