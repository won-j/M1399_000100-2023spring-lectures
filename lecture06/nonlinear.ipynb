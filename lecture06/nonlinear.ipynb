{
 "cells": [
  {
   "cell_type": "code",
   "execution_count": null,
   "metadata": {},
   "outputs": [],
   "source": [
    "sessionInfo()"
   ]
  },
  {
   "cell_type": "markdown",
   "metadata": {},
   "source": [
    "# Nonlinear equation solve\n",
    "\n",
    "### Problem\n",
    "\n",
    "* Find $\\mathbf{x}$ such that\n",
    "$$\n",
    "f(\\mathbf{x}) = 0.\n",
    "$$\n",
    "    - If $f(\\mathbf{x}) = \\mathbf{A}\\mathbf{x} - \\mathbf{b}$, then we now know quite well how to solve this.\n",
    "    - However, in case $f$ is nonlinear in $\\mathbf{x}$, closed-form solutions are out of reach -- no \"direct\" method\n",
    "    - Iterative, numerical methods come to rescue.\n",
    "\n",
    "* Examples:\n",
    "    1. Find a root of $f(x) = x^4 - \\sin x$.\n",
    "    2. Find a maximizer of $g(x) = \\frac{\\log x}{1 + x}$, by solving\n",
    "    $$\n",
    "        f(x) = g'(x) = \\frac{1 + x^{-1} - \\log x}{(1 + x)^2}.\n",
    "    $$\n",
    "    \n",
    "* Nonlinear equation and optimization are closed related (at least if $g$ is differentiable).\n",
    "    - No distinction between maximization and minimization (\"critical points\")\n",
    "    - Statitical applications: MLE, minimizing Bayes risk, nonlinear least squares, MAP estimation, ..."
   ]
  },
  {
   "cell_type": "markdown",
   "metadata": {},
   "source": [
    "## Univariate problems\n",
    "\n",
    "$$\n",
    "    f: \\mathbb{R} \\to \\mathbb{R}\n",
    "$$\n",
    "\n",
    "### Bisection\n",
    "\n",
    "* Assume $f$ is continuous on $[l, r]$ and $f(l)f(r) \\le 0$.\n",
    "* Then by the Intermediate Value Theorem, there exists $x^{\\star}$ such that $f(x^{\\star})=0$.\n",
    "* Consider the **midpoint** $m = (l + r)/2$.\n",
    "* If $f(m) = 0$, we are done.\n",
    "* Otherwise, start over with $r \\gets m$ if $f(l)f(m) < 0$, $l \\gets m$ if $f(m)f(r) < 0$.\n",
    "\n",
    "* Algorithm"
   ]
  },
  {
   "cell_type": "code",
   "execution_count": null,
   "metadata": {},
   "outputs": [],
   "source": [
    "bisect <- function(f, l, r, tol=1e-6) {\n",
    "    iter <- 0\n",
    "    while ( r - l > tol ) {\n",
    "        m <- (l + r) / 2\n",
    "        if ( f(l) * f(m) < 0 ) {\n",
    "            r <- m\n",
    "        } else {\n",
    "            l <- m\n",
    "        }\n",
    "        iter <- iter + 1\n",
    "    }\n",
    "    ret <- list(val = (l + r) / 2, iter = iter)\n",
    "}"
   ]
  },
  {
   "cell_type": "markdown",
   "metadata": {},
   "source": [
    "* Example: quantile of continuous distribution"
   ]
  },
  {
   "cell_type": "code",
   "execution_count": null,
   "metadata": {},
   "outputs": [],
   "source": [
    "F <- function(x) { pt(x, 5) - 0.95 }   # Student's t distribution with 5 df, 95%ile\n",
    "F(1.291)\n",
    "F(2.582)\n",
    "ret <- bisect(F, 1.291, 2.582)\n",
    "ret$val\n",
    "ret$iter"
   ]
  },
  {
   "cell_type": "code",
   "execution_count": null,
   "metadata": {},
   "outputs": [],
   "source": [
    "qt(0.95, 5)"
   ]
  },
  {
   "cell_type": "markdown",
   "metadata": {},
   "source": [
    "* After $n$ iterations, the final interval has length $2^{-n}(r^{(0)} - l^{(0)})$.\n",
    "* If $n$ is large enough, the midpoint of the final interval is an approximate root."
   ]
  },
  {
   "cell_type": "markdown",
   "metadata": {},
   "source": [
    "### Fixed-point iteration\n",
    "\n",
    "* $x \\in \\mathbb{R}$ is a *fixed point* of function $F: \\mathbb{R} \\to \\mathbb{R}$ if $F(x) = x$.\n",
    "\n",
    "* Fixed-point iteration\n",
    "$$\n",
    "    x^{(k+1)} = F(x^k)\n",
    "$$\n",
    "    - If $F: \\mathbb{R}^n \\to \\mathbb{R}^n$ maps $\\mathbf{x} \\mapsto \\mathbf{R}\\mathbf{x} - \\mathbf{c}$ for  matrix $\\mathbf{R}=\\mathbf{M}^{-1}\\mathbf{K}$ where $\\mathbf{M} - \\mathbf{K} = \\mathbf{A}$ and $\\mathbf{c}=\\mathbf{M}^{-1}\\mathbf{b}$, then FPI reduces to the iterative method for solving linear system $\\mathbf{A}\\mathbf{x}=\\mathbf{b}$. \n",
    "\n",
    "* Fixed-point strategy for finding a root of $f$:\n",
    "    - Determine $F$ such that $f(x) = 0 \\iff F(x) = x$;\n",
    "    - Apply FPI.\n",
    "    \n",
    "#### Example\n",
    "\n",
    "Find a root of $f(x) = x^4 - \\sin x$ on $(0, 1]$.\n",
    "\n",
    "* Method 1: choose $F_1(x) = (\\sin x)^{1/4}$, since $f(x)=0 \\iff x = (\\sin x)^{1/4}$."
   ]
  },
  {
   "cell_type": "code",
   "execution_count": null,
   "metadata": {},
   "outputs": [],
   "source": [
    "x <- 1.0\n",
    "for (i in 1:10) {\n",
    "    x <- (sin(x))^0.25\n",
    "    print(x)\n",
    "}"
   ]
  },
  {
   "cell_type": "markdown",
   "metadata": {},
   "source": [
    "* Method 2: choose $F_2(x) = \\frac{\\sin x}{x^3}$ since $f(x)=0 \\iff x = \\frac{\\sin x}{x^3}$."
   ]
  },
  {
   "cell_type": "code",
   "execution_count": null,
   "metadata": {},
   "outputs": [],
   "source": [
    "x <- 1.0\n",
    "for (i in 1:10) {\n",
    "    x <- sin(x) / x^3\n",
    "    print(x)\n",
    "}"
   ]
  },
  {
   "cell_type": "markdown",
   "metadata": {},
   "source": [
    "#### Contraction mapping theorem\n",
    "\n",
    "*Theorem*. Suppose the function $F$ defined on a closed interval $I \\subset \\mathbb{R}$ satisfies\n",
    "\n",
    "1. $F(x) \\in I$ whenever $x \\in I$\n",
    "2. $|F(x) - F(y)| \\le L|x - y|$ for all $x, y \\in I$ (Lipschitz continuity).\n",
    "\n",
    "Then, if $L \\in [0, 1)$, $F$ has a unique fixed point $x^{\\star} \\in I$. Furthermore, fixed-point iteration $x^{k+1} = F(x^{k})$ converges to $x^{\\star}$ regardless of the initial point $x^{(0)}$."
   ]
  },
  {
   "cell_type": "markdown",
   "metadata": {},
   "source": [
    "*Proof*. From condition 2,\n",
    "\\begin{align*}\n",
    "    |x^{(k+1)} - x^{(k)}| &= |F(x^{(k)} - F(x^{(k-1)})|| \\\\\n",
    "                          &\\le L|x^{(k)} - x^{(k-1)}| \\\\\n",
    "                          &\\vdots \\\\\n",
    "                          &\\le L^k|x^{(1)} - x^{(0)}|\n",
    "\\end{align*}\n",
    "Using the triangular inequality, for $m > n$ we have"
   ]
  },
  {
   "cell_type": "markdown",
   "metadata": {},
   "source": [
    "\\begin{align*}\n",
    "    |x^{(n)} - x^{(m)}| &= |x^{(n)} - x^{(n+1)} + x^{(n+1)} - x^{(n+2)} + \\dotsb + x^{(m-1)} - x^{(m)}| \\\\\n",
    "                       &\\le \\sum_{k=n}^{m-1} |x^{(k)} - x^{(k+1)}| \\\\\n",
    "                       &\\le \\sum_{k=n}^{m-1} L^k |x^{(1)} - x^{(0)})| \\tag{*}\\\\\n",
    "                       &\\le \\sum_{k=n}^{\\infty} L^k |x^{(1)} - x^{(0)})|  \n",
    "                       = \\frac{L^n}{1 - L} |x^{(1)} - x^{(0)}|.\n",
    "\\end{align*}\n",
    "Thus the sequence $\\{x^{(k)}\\}$ is Cauchy and convergent. Since the interval $I$ is closed, $x^{\\star} = \\lim_k x^{(k)} \\in I$.\n",
    "\n",
    "Now by (Lipschitz) continuity of $F$, and the definition $x^{k+1} = F(x^{(k)})$, we see that $x^{\\star}$ is a fixed point of $F$.\n",
    "\n",
    "If there exists another fixed point $y^{\\star} \\neq x^{\\star}$, then \n",
    "$$\n",
    "    |x^{\\star} - y^{\\star}| = |F(x^{\\star}) - F(y^{\\star})| \\le L|x^{\\star} - y^{\\star}|,\n",
    "$$\n",
    "which is a contradiction since $L \\in (0, 1)$."
   ]
  },
  {
   "cell_type": "markdown",
   "metadata": {},
   "source": [
    "*Remark*. By sending $m \\to \\infty$ in inequality (\\*), we have the bound\n",
    "$$\n",
    "    |x^{(n)} - x^{\\star}| \\le \\frac{L^n}{1 - L}|x^{(1)} - x^{(0)}|\n",
    "$$\n",
    "which provides the *rate of convergence* to $x^{\\star}$. This geometric rate of convergence is called *linear convergence*."
   ]
  },
  {
   "cell_type": "markdown",
   "metadata": {},
   "source": [
    "#### Back to example\n",
    "\n",
    "* Recall our example $F_1(x) = (\\sin x)^{1/4}$ and $F_2(x) = \\frac{\\sin x}{x^3}$.\n",
    "\n",
    "* Lipschitz modulus of a differentiable function is $L = \\sup_{x\\in I} |F'(x)|$ (why?).\n",
    "\n",
    "* $F_1$ maps $I=[0.2, 1]$ to a smaller interval. $F_1'(x) = \\frac{\\cos x}{4\\sin^{3/4}(x)}$ is decreasing on $I$ and $1 > F_1'(0.2) > F_1'(1) > 0$.\n",
    "\n",
    "* $F_2$ *expands* $I=[0.9, 1]$ to $[0.841, 1.075]$ and also $F_2'(x) = \\frac{x\\cos x - 3\\sin x}{x^4}$ is increasing on $I$ with $F_2'(1) < -1$."
   ]
  },
  {
   "cell_type": "markdown",
   "metadata": {},
   "source": [
    "### Obvious choice of $F$\n",
    "\n",
    "* Probably the most obvious choice for $F$ to find a root of $f$ is to set $F(x) = f(x) + x$. This yields an iteration\n",
    "$$\n",
    "    x^{(k+1)} = x^{(k)} + f(x^{(k)}).\n",
    "$$\n",
    "(Homework)"
   ]
  },
  {
   "cell_type": "markdown",
   "metadata": {},
   "source": [
    "### Newton's method (Newton-Raphson)\n",
    "\n",
    "* Newton's method was originally developed by, not surprisingly, Isaac Newton, and further refined by [Joseph Raphson](https://en.wikipedia.org/wiki/Joseph_Raphson), to find roots of nonlinear equations\n",
    "$f(x) = 0$:\n",
    "$$\n",
    "    x^{(k+1)} = x^{(k)} - \\frac{f(x^{(k)})}{f'(x^{(k)})}.\n",
    "$$\n",
    "\n",
    "* Motivation: first-order Taylor expansion\n",
    "    - If $x^{(k)}$ approximates the root $x^{\\star}$ of $f$, then \n",
    "    $$\n",
    "        0 = f(x^{\\star}) = f(x^{(k)}) + f'(\\tilde{x})(x^{\\star} - x^{(k)})\n",
    "    $$\n",
    "    for some $\\tilde{x}$ on the line segment connecting $x^{(k)}$ and $x^{\\star}$.\n",
    "    - If we substitute $\\tilde{x}$ with $x^{(k)}$ and $x^{\\star}$ with the next approximation $x^{(k+1)}$, we get\n",
    "    $$\n",
    "        0 = f(x^{(k)}) + f'(x^{(k)})(x^{(k+1)} - x^{(k)}),\n",
    "    $$\n",
    "    yielding the above iteration.\n",
    "\n",
    "* Fixed-point iteration: Newton's method is a FPI with\n",
    "$$\n",
    "    F(x) = x - \\frac{f(x)}{f'(x)}.\n",
    "$$\n",
    "\n",
    "* Thus the (local) convergence of Newton's method is governed by \n",
    "$$\n",
    "    F'(x) = 1 - \\frac{(f'(x))^2 - f(x)f''(x)}{(f'(x))^2} = \\frac{f(x)f''(x)}{(f'(x))^2}\n",
    "$$\n",
    "(assuming $f$ is twice differentiable).\n",
    "\n",
    "* If $f'(x^{\\star})\\neq 0$ and $|f''(x^\\star)| < \\infty$, then $F'(x^{\\star})=0$. So there is a neighborhood of $x^{\\star}$ in which $|F'(x)| < 1$.\n",
    "\n",
    "* With this assumption, apply 2nd-order Taylor expansion of $F$ around $x^{\\star}$:\n",
    "\\begin{align*}\n",
    "    x^{(k)} - x^{\\star} &= F(x^{(k-1)}) - F(x^{\\star}) \\\\\n",
    "                        &= F'(x^{\\star})(x^{(k-1)} - x^{\\star}) + \\frac{1}{2}F''(\\tilde{x})(x^{(k-1)} - x^{\\star})^2 \\\\\n",
    "                        &= \\frac{1}{2}F''(\\tilde{x})(x^{(k-1)} - x^{\\star})^2,\n",
    "\\end{align*}\n",
    "for $\\tilde{x}$ on the line segment connecting $x^{(k-1)}$ and $x^{\\star}$.\n",
    "\n",
    "* If furthermore $F''$ is continuous and $x^{(0)}$ is sufficiently close to $x^{\\star}$, then $x^{(k)} \\to x^{\\star}$ and\n",
    "$$\n",
    "    \\lim_{k}\\frac{|x^{(k)} - x^{\\star}|}{|x^{(k-1)} - x^{\\star}|^2} = \\frac{1}{2}|F''(x^{\\star})|.\n",
    "$$\n",
    "Thus Newton's method has a locally *quadratic convergence* property (under suitable contidions).\n",
    "\n",
    "* The local convergence theory requires a good starting point $x^{(0)}$ (\"sufficiently close to $x^{\\star}$\"). With a good starting point, Newton-Rephson will converge very fast to the nearby solution. Otherwise, it can fail miserably."
   ]
  },
  {
   "cell_type": "markdown",
   "metadata": {},
   "source": [
    "#### Examples\n",
    "\n",
    "* Quantile (cf. bisection)"
   ]
  },
  {
   "cell_type": "code",
   "execution_count": null,
   "metadata": {},
   "outputs": [],
   "source": [
    "F <- function(x) { pt(x, 5) - 0.95 }   # Student's t distribution with 5 df, 95%ile\n",
    "Fprime <- function(x) { dt(x, 5) }  # derivative of F (density function)\n",
    "#x <- 1.291\n",
    "x <- 2.582\n",
    "options(digits=20)\n",
    "for (i in 1:10) {\n",
    "    x <- x - (F(x) / Fprime(x))\n",
    "    print(x)\n",
    "}"
   ]
  },
  {
   "cell_type": "code",
   "execution_count": null,
   "metadata": {},
   "outputs": [],
   "source": [
    "qt(0.95, 5)"
   ]
  },
  {
   "cell_type": "markdown",
   "metadata": {},
   "source": [
    "* The following animation is the result of applying Newton's method for minimizing $g(x) = \\sin x$, i.e., finding a root of $f(x) = \\cos x$, starting from $x^{(0)} = 2.0, 2.75, 4.0$, respectively."
   ]
  },
  {
   "cell_type": "markdown",
   "metadata": {},
   "source": [
    "<img src=\"./newton_sine_1.gif\">\n",
    "\n",
    "<img src=\"./newton_sine_2.gif\">\n",
    "\n",
    "<img src=\"./newton_sine_3.gif\">"
   ]
  },
  {
   "cell_type": "markdown",
   "metadata": {},
   "source": [
    "## Multivariate problems\n",
    "\n",
    "Goal: to solve\n",
    "\\begin{align*}\n",
    "    f_1(x_1, \\dotsc, x_n) &= 0 \\\\\n",
    "    \\vdots & ~ \\\\\n",
    "    f_n(x_1, \\dotsc, x_n) &=0.\n",
    "\\end{align*}\n",
    "\n",
    "* Example\n",
    "\\begin{align*}\n",
    "    2x_1 - x_2 &= e^{-x_1} \\\\\n",
    "    -x_1 + 2x_2 &= e^{-x_2}\n",
    "\\end{align*}"
   ]
  },
  {
   "cell_type": "markdown",
   "metadata": {},
   "source": [
    "### Newton's method\n",
    "\n",
    "* Same idea as univariate version: *linearize* $f$ around $\\mathbf{x}=(x_1, \\dotsc, x_n)$.\n",
    "\n",
    "* Iteration:\n",
    "$$\n",
    "    \\mathbf{x}^{(k+1)} = \\mathbf{x}^{(k)} - [Jf(\\mathbf{x}^{(k)})]^{-1}f(\\mathbf{x}^{(k)})\n",
    "$$\n",
    "where\n",
    "$$\n",
    "    Jf(\\mathbf{x}) = \\begin{bmatrix}\n",
    "    \\frac{\\partial f_1(\\mathbf{x})}{\\partial x_1} & \\dotsc & \\frac{\\partial f_1(\\mathbf{x})}{\\partial x_n} \\\\\n",
    "    \\vdots & \\ddots & \\vdots \\\\\n",
    "    \\frac{\\partial f_n(\\mathbf{x})}{\\partial x_1} & \\dotsc & \\frac{\\partial f_n(\\mathbf{x})}{\\partial x_n} \n",
    "    \\end{bmatrix}\n",
    "$$\n",
    "\n",
    "* Remember we should solve a linear system\n",
    "$$\n",
    "    [Jf(\\mathbf{x}^{(k)})]\\Delta\\mathbf{x} = -f(\\mathbf{x}^{(k)})\n",
    "$$\n",
    "to get $\\mathbf{x}^{(k+1)} = \\mathbf{x}^{(k)} + \\Delta\\mathbf{x}$,\n",
    "using LU etc, for *each* iteration.\n"
   ]
  },
  {
   "cell_type": "markdown",
   "metadata": {},
   "source": [
    "#### Variants\n",
    "\n",
    "* Modified Newton: replace $Jf(\\mathbf{x}^{(k)})$ with $J = Jf(\\mathbf{x}^{(0)})$.\n",
    "\n",
    "* Jacobi's method: replace $Jf(\\mathbf{x}^{(k)})$ with $\\text{diag}(Jf(\\mathbf{x}^{(k)}))$.\n",
    "\n",
    "* Gauss-Seidel: replace $Jf(\\mathbf{x}^{(k)})$ with $\\text{lowertri}(Jf(\\mathbf{x}^{(k)}))$.\n",
    "\n",
    "* SOR: replace $Jf(\\mathbf{x}^{(k)})$ with $\\frac{1}{\\omega}\\text{diag}(Jf(\\mathbf{x}^{(k)})) + \\text{strictlowertri}(Jf(\\mathbf{x}^{(k)}))$."
   ]
  },
  {
   "cell_type": "code",
   "execution_count": null,
   "metadata": {},
   "outputs": [],
   "source": []
  }
 ],
 "metadata": {
  "@webio": {
   "lastCommId": null,
   "lastKernelId": null
  },
  "kernelspec": {
   "display_name": "R",
   "language": "R",
   "name": "ir"
  },
  "language_info": {
   "codemirror_mode": "r",
   "file_extension": ".r",
   "mimetype": "text/x-r-source",
   "name": "R",
   "pygments_lexer": "r",
   "version": "4.0.2"
  },
  "toc": {
   "colors": {
    "hover_highlight": "#DAA520",
    "running_highlight": "#FF0000",
    "selected_highlight": "#FFD700"
   },
   "moveMenuLeft": true,
   "nav_menu": {
    "height": "153px",
    "width": "252px"
   },
   "navigate_menu": true,
   "number_sections": true,
   "sideBar": true,
   "skip_h1_title": true,
   "threshold": 4,
   "toc_cell": true,
   "toc_position": {
    "height": "441.3333435058594px",
    "left": "0px",
    "right": "903.3333129882813px",
    "top": "140.6666717529297px",
    "width": "166px"
   },
   "toc_section_display": "block",
   "toc_window_display": true,
   "widenNotebook": false
  }
 },
 "nbformat": 4,
 "nbformat_minor": 4
}
