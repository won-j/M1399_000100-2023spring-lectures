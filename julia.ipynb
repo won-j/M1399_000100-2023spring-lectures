{
 "cells": [
  {
   "cell_type": "markdown",
   "id": "618a1bc9-6e0e-4290-9792-14cfd711a675",
   "metadata": {},
   "source": [
    "# Using Julia in a Jupyter notebook"
   ]
  },
  {
   "cell_type": "code",
   "execution_count": 1,
   "id": "c4ef7eb4-9e9c-4dbf-a31e-cb25447f7bec",
   "metadata": {},
   "outputs": [
    {
     "name": "stdout",
     "output_type": "stream",
     "text": [
      "Hello World"
     ]
    }
   ],
   "source": [
    "print(\"Hello World\")"
   ]
  },
  {
   "cell_type": "code",
   "execution_count": 2,
   "id": "1a7858cc-02d9-48d9-b3bf-3564f34d2bf0",
   "metadata": {},
   "outputs": [
    {
     "name": "stdout",
     "output_type": "stream",
     "text": [
      "                                                                                \n",
      "                                                                                \n",
      "                                                                                \n",
      "                                                           ..                   \n",
      "                                                         ......                 \n",
      "                                                       ........                 \n",
      "                                                         ......                 \n",
      "                                                      ........ ..   .           \n",
      "                                              ...   .................           \n",
      "                                              ........................  ...     \n",
      "                                              ............................      \n",
      "                                           ..............................       \n",
      "                                            ..............................      \n",
      "                                         ....................................   \n",
      "                                .         ..................................    \n",
      "                           .. ..... .     ..................................    \n",
      "                           ...........   ....................................   \n",
      "                         .............. ....................................    \n",
      "                         ...................................................    \n",
      "                     .....................................................      \n",
      " .......................................................................        \n",
      "                     .....................................................      \n",
      "                         ...................................................    \n",
      "                         .............. ....................................    \n",
      "                           ...........   ....................................   \n",
      "                           .. ..... .     ..................................    \n",
      "                                .         ..................................    \n",
      "                                         ....................................   \n",
      "                                            ..............................      \n",
      "                                           ..............................       \n",
      "                                              ............................      \n",
      "                                              ........................  ...     \n",
      "                                              ...   .................           \n",
      "                                                      ........ ..   .           \n",
      "                                                         ......                 \n",
      "                                                       ........                 \n",
      "                                                         ......                 \n",
      "                                                           ..                   \n",
      "                                                                                \n",
      "                                                                                \n",
      "                                                                                \n"
     ]
    }
   ],
   "source": [
    "function mandelbrot(a) \n",
    "    z = 0\n",
    "    for i=1:50\n",
    "        z = z^2 + a\n",
    "    end\n",
    "    return z\n",
    "end\n",
    "\n",
    "for y=1.0:-0.05:-1.0\n",
    "    for x=-2.0:0.0315:0.5\n",
    "        abs(mandelbrot(complex(x, y))) < 2 ? print(\".\") : print(\" \")\n",
    "    end\n",
    "    println()\n",
    "end"
   ]
  },
  {
   "cell_type": "code",
   "execution_count": null,
   "id": "553586d3-8e85-497d-b86e-221251dfd808",
   "metadata": {},
   "outputs": [
    {
     "name": "stderr",
     "output_type": "stream",
     "text": [
      "┌ Info: Precompiling Plots [91a5bcdd-55d7-5caf-9e0b-520d859cae80]\n",
      "└ @ Base loading.jl:1278\n"
     ]
    }
   ],
   "source": [
    "using Plots\n",
    "x = 1:10; y = rand(10); # These are the plotting data\n",
    "plot(x, y)"
   ]
  },
  {
   "cell_type": "code",
   "execution_count": null,
   "id": "8d38756b-098b-421b-a5f1-a1eb84f0808f",
   "metadata": {},
   "outputs": [],
   "source": [
    "using ForwardDiff\n",
    "\n",
    "function f(x)\n",
    "    return x * x\n",
    "end\n",
    "\n",
    "df = x -> ForwardDiff.derivative(f, x)\n",
    "df(5)  # this should be df/dx = 2 * x"
   ]
  },
  {
   "cell_type": "code",
   "execution_count": null,
   "id": "409df4ab-7c71-4bd1-b56a-398b22da589c",
   "metadata": {},
   "outputs": [],
   "source": []
  }
 ],
 "metadata": {
  "kernelspec": {
   "display_name": "Julia 1.5.3",
   "language": "julia",
   "name": "julia-1.5"
  },
  "language_info": {
   "file_extension": ".jl",
   "mimetype": "application/julia",
   "name": "julia",
   "version": "1.5.3"
  }
 },
 "nbformat": 4,
 "nbformat_minor": 5
}
