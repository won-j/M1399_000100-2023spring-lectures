{
 "cells": [
  {
   "cell_type": "code",
   "execution_count": 1,
   "metadata": {
    "tags": [],
    "vscode": {
     "languageId": "r"
    }
   },
   "outputs": [
    {
     "data": {
      "text/plain": [
       "R version 4.2.2 (2022-10-31)\n",
       "Platform: x86_64-conda-linux-gnu (64-bit)\n",
       "Running under: Ubuntu 22.04.2 LTS\n",
       "\n",
       "Matrix products: default\n",
       "BLAS/LAPACK: /opt/conda/lib/libopenblasp-r0.3.21.so\n",
       "\n",
       "locale:\n",
       " [1] LC_CTYPE=en_US.UTF-8       LC_NUMERIC=C              \n",
       " [3] LC_TIME=en_US.UTF-8        LC_COLLATE=en_US.UTF-8    \n",
       " [5] LC_MONETARY=en_US.UTF-8    LC_MESSAGES=en_US.UTF-8   \n",
       " [7] LC_PAPER=en_US.UTF-8       LC_NAME=C                 \n",
       " [9] LC_ADDRESS=C               LC_TELEPHONE=C            \n",
       "[11] LC_MEASUREMENT=en_US.UTF-8 LC_IDENTIFICATION=C       \n",
       "\n",
       "attached base packages:\n",
       "[1] stats     graphics  grDevices utils     datasets  methods   base     \n",
       "\n",
       "loaded via a namespace (and not attached):\n",
       " [1] fansi_1.0.4     crayon_1.5.2    digest_0.6.31   utf8_1.2.3     \n",
       " [5] IRdisplay_1.1   repr_1.1.6      lifecycle_1.0.3 jsonlite_1.8.4 \n",
       " [9] evaluate_0.20   pillar_1.8.1    rlang_1.0.6     cli_3.6.0      \n",
       "[13] uuid_1.1-0      vctrs_0.5.2     IRkernel_1.3.2  tools_4.2.2    \n",
       "[17] glue_1.6.2      fastmap_1.1.1   compiler_4.2.2  base64enc_0.1-3\n",
       "[21] pbdZMQ_0.3-9    htmltools_0.5.4"
      ]
     },
     "metadata": {},
     "output_type": "display_data"
    }
   ],
   "source": [
    "sessionInfo()"
   ]
  },
  {
   "cell_type": "markdown",
   "metadata": {},
   "source": []
  },
  {
   "cell_type": "markdown",
   "metadata": {},
   "source": [
    "### Required R packages"
   ]
  },
  {
   "cell_type": "code",
   "execution_count": 2,
   "metadata": {
    "tags": [],
    "vscode": {
     "languageId": "r"
    }
   },
   "outputs": [
    {
     "name": "stderr",
     "output_type": "stream",
     "text": [
      "\n",
      "Attaching package: ‘uint8’\n",
      "\n",
      "\n",
      "The following objects are masked from ‘package:base’:\n",
      "\n",
      "    :, order\n",
      "\n",
      "\n",
      "\n",
      "Attaching package: ‘pryr’\n",
      "\n",
      "\n",
      "The following objects are masked from ‘package:lobstr’:\n",
      "\n",
      "    ast, mem_used\n",
      "\n",
      "\n",
      "\n",
      "Attaching package: ‘gmp’\n",
      "\n",
      "\n",
      "The following objects are masked from ‘package:base’:\n",
      "\n",
      "    %*%, apply, crossprod, matrix, tcrossprod\n",
      "\n",
      "\n"
     ]
    }
   ],
   "source": [
    "# Dig into the internal representation of R objects\n",
    "library(lobstr)  # if not installed, use install.packages('lobstr')\n",
    "# For unsigned integers\n",
    "library(uint8) # devtools::install_github('coolbutuseless/uint8')\n",
    "# For bitstrings\n",
    "library(pryr)\n",
    "# For big integers\n",
    "library(gmp)\n",
    "# For single precision floating point numbers\n",
    "library(float)\n",
    "library(Rcpp)"
   ]
  },
  {
   "cell_type": "markdown",
   "metadata": {},
   "source": [
    "# Computer arithmetics"
   ]
  },
  {
   "cell_type": "markdown",
   "metadata": {},
   "source": [
    "## Units of computer storage\n",
    "\n",
    "Humans use decimal digits (why?)\\\n",
    "Computers use binary digits (why?)\n",
    "\n",
    "* *Bit* = binary digit (coined by statistician [John Tukey](https://en.wikipedia.org/wiki/Bit#History)).  \n",
    "* *byte* = 8 bits.\n",
    "* KB = kilobyte = $10^3$ bytes; KiB = kibibyte = $2^{10}$ bytes.  \n",
    "* MB = megabyte = $10^6$ bytes; MiB = mebibyte = $2^{20}$ bytes.\n",
    "* GB = gigabyte = $10^9$ bytes. Typical RAM size.  \n",
    "* TB = terabyte = $10^{12}$ bytes. Typical hard drive size. Size of NYSE each trading session.    \n",
    "* PB = petabyte = $10^{15}$ bytes.  \n",
    "* EB = exabyte = $10^{18}$ bytes. Size of all healthcare data in 2011 is ~150 EB.    \n",
    "* ZB = zetabyte = $10^{21}$ bytes. \n",
    "\n",
    "R function `lobstr::obj_size()` shows the amount of memory (in bytes) used by an object. (This is a better version of the built-in `utils::object.size()`"
   ]
  },
  {
   "cell_type": "code",
   "execution_count": 3,
   "metadata": {
    "tags": [],
    "vscode": {
     "languageId": "r"
    }
   },
   "outputs": [
    {
     "data": {
      "text/plain": [
       "56 B"
      ]
     },
     "metadata": {},
     "output_type": "display_data"
    },
    {
     "data": {
      "text/plain": [
       "64 B"
      ]
     },
     "metadata": {},
     "output_type": "display_data"
    },
    {
     "data": {
      "text/plain": [
       "80.22 kB"
      ]
     },
     "metadata": {},
     "output_type": "display_data"
    }
   ],
   "source": [
    "x <- 100\n",
    "lobstr::obj_size(x)\n",
    "y <-c(20, 30)\n",
    "lobstr::obj_size(y)\n",
    "z <- as.matrix(runif(100 * 100), nrow=100)  # 100 x 100 random matrix\n",
    "lobstr::obj_size(z)"
   ]
  },
  {
   "cell_type": "markdown",
   "metadata": {},
   "source": [
    "Print all variables in workspace and their sizes:"
   ]
  },
  {
   "cell_type": "code",
   "execution_count": 4,
   "metadata": {
    "tags": [],
    "vscode": {
     "languageId": "r"
    }
   },
   "outputs": [
    {
     "data": {
      "text/html": [
       "<style>\n",
       ".dl-inline {width: auto; margin:0; padding: 0}\n",
       ".dl-inline>dt, .dl-inline>dd {float: none; width: auto; display: inline-block}\n",
       ".dl-inline>dt::after {content: \":\\0020\"; padding-right: .5ex}\n",
       ".dl-inline>dt:not(:first-of-type) {padding-left: .5ex}\n",
       "</style><dl class=dl-inline><dt>x</dt><dd>56</dd><dt>y</dt><dd>64</dd><dt>z</dt><dd>80216</dd></dl>\n"
      ],
      "text/latex": [
       "\\begin{description*}\n",
       "\\item[x] 56\n",
       "\\item[y] 64\n",
       "\\item[z] 80216\n",
       "\\end{description*}\n"
      ],
      "text/markdown": [
       "x\n",
       ":   56y\n",
       ":   64z\n",
       ":   80216\n",
       "\n"
      ],
      "text/plain": [
       "    x     y     z \n",
       "   56    64 80216 "
      ]
     },
     "metadata": {},
     "output_type": "display_data"
    }
   ],
   "source": [
    "sapply(ls(), function(z, env=parent.env(environment())) obj_size(get(z, envir=env)))"
   ]
  },
  {
   "cell_type": "markdown",
   "metadata": {},
   "source": [
    "## Storage of Characters\n",
    "\n",
    "* Plain text files are stored in the form of characters: `.jl`, `.r`, `.c`, `.cpp`, `.ipynb`, `.html`, `.tex`, ...  \n",
    "* ASCII (American Code for Information Interchange): 7 bits, only $2^7=128$ characters.  "
   ]
  },
  {
   "cell_type": "code",
   "execution_count": 5,
   "metadata": {
    "vscode": {
     "languageId": "r"
    }
   },
   "outputs": [
    {
     "data": {
      "text/html": [
       "<style>\n",
       ".list-inline {list-style: none; margin:0; padding: 0}\n",
       ".list-inline>li {display: inline-block}\n",
       ".list-inline>li:not(:last-child)::after {content: \"\\00b7\"; padding: 0 .5ex}\n",
       "</style>\n",
       "<ol class=list-inline><li>''</li><li>'\\001'</li><li>'\\002'</li><li>'\\003'</li><li>'\\004'</li><li>'\\005'</li><li>'\\006'</li><li>'\\a'</li><li>'\\b'</li><li>'\\t'</li><li>'\\n'</li><li>'\\v'</li><li>'\\f'</li><li>'\\r'</li><li>'\\016'</li><li>'\\017'</li><li>'\\020'</li><li>'\\021'</li><li>'\\022'</li><li>'\\023'</li><li>'\\024'</li><li>'\\025'</li><li>'\\026'</li><li>'\\027'</li><li>'\\030'</li><li>'\\031'</li><li>'\\032'</li><li>'\\033'</li><li>'\\034'</li><li>'\\035'</li><li>'\\036'</li><li>'\\037'</li><li>' '</li><li>'!'</li><li>'\"'</li><li>'#'</li><li>'$'</li><li>'%'</li><li>'&amp;'</li><li>'\\''</li><li>'('</li><li>')'</li><li>'*'</li><li>'+'</li><li>','</li><li>'-'</li><li>'.'</li><li>'/'</li><li>'0'</li><li>'1'</li><li>'2'</li><li>'3'</li><li>'4'</li><li>'5'</li><li>'6'</li><li>'7'</li><li>'8'</li><li>'9'</li><li>':'</li><li>';'</li><li>'&lt;'</li><li>'='</li><li>'&gt;'</li><li>'?'</li><li>'@'</li><li>'A'</li><li>'B'</li><li>'C'</li><li>'D'</li><li>'E'</li><li>'F'</li><li>'G'</li><li>'H'</li><li>'I'</li><li>'J'</li><li>'K'</li><li>'L'</li><li>'M'</li><li>'N'</li><li>'O'</li><li>'P'</li><li>'Q'</li><li>'R'</li><li>'S'</li><li>'T'</li><li>'U'</li><li>'V'</li><li>'W'</li><li>'X'</li><li>'Y'</li><li>'Z'</li><li>'['</li><li>'\\\\'</li><li>']'</li><li>'^'</li><li>'_'</li><li>'`'</li><li>'a'</li><li>'b'</li><li>'c'</li><li>'d'</li><li>'e'</li><li>'f'</li><li>'g'</li><li>'h'</li><li>'i'</li><li>'j'</li><li>'k'</li><li>'l'</li><li>'m'</li><li>'n'</li><li>'o'</li><li>'p'</li><li>'q'</li><li>'r'</li><li>'s'</li><li>'t'</li><li>'u'</li><li>'v'</li><li>'w'</li><li>'x'</li><li>'y'</li><li>'z'</li><li>'{'</li><li>'|'</li><li>'}'</li><li>'~'</li><li>'\\177'</li></ol>\n"
      ],
      "text/latex": [
       "\\begin{enumerate*}\n",
       "\\item ''\n",
       "\\item '\\textbackslash{}001'\n",
       "\\item '\\textbackslash{}002'\n",
       "\\item '\\textbackslash{}003'\n",
       "\\item '\\textbackslash{}004'\n",
       "\\item '\\textbackslash{}005'\n",
       "\\item '\\textbackslash{}006'\n",
       "\\item '\\textbackslash{}a'\n",
       "\\item '\\textbackslash{}b'\n",
       "\\item '\\textbackslash{}t'\n",
       "\\item '\\textbackslash{}n'\n",
       "\\item '\\textbackslash{}v'\n",
       "\\item '\\textbackslash{}f'\n",
       "\\item '\\textbackslash{}r'\n",
       "\\item '\\textbackslash{}016'\n",
       "\\item '\\textbackslash{}017'\n",
       "\\item '\\textbackslash{}020'\n",
       "\\item '\\textbackslash{}021'\n",
       "\\item '\\textbackslash{}022'\n",
       "\\item '\\textbackslash{}023'\n",
       "\\item '\\textbackslash{}024'\n",
       "\\item '\\textbackslash{}025'\n",
       "\\item '\\textbackslash{}026'\n",
       "\\item '\\textbackslash{}027'\n",
       "\\item '\\textbackslash{}030'\n",
       "\\item '\\textbackslash{}031'\n",
       "\\item '\\textbackslash{}032'\n",
       "\\item '\\textbackslash{}033'\n",
       "\\item '\\textbackslash{}034'\n",
       "\\item '\\textbackslash{}035'\n",
       "\\item '\\textbackslash{}036'\n",
       "\\item '\\textbackslash{}037'\n",
       "\\item ' '\n",
       "\\item '!'\n",
       "\\item '\"'\n",
       "\\item '\\#'\n",
       "\\item '\\$'\n",
       "\\item '\\%'\n",
       "\\item '\\&'\n",
       "\\item '\\textbackslash{}''\n",
       "\\item '('\n",
       "\\item ')'\n",
       "\\item '*'\n",
       "\\item '+'\n",
       "\\item ','\n",
       "\\item '-'\n",
       "\\item '.'\n",
       "\\item '/'\n",
       "\\item '0'\n",
       "\\item '1'\n",
       "\\item '2'\n",
       "\\item '3'\n",
       "\\item '4'\n",
       "\\item '5'\n",
       "\\item '6'\n",
       "\\item '7'\n",
       "\\item '8'\n",
       "\\item '9'\n",
       "\\item ':'\n",
       "\\item ';'\n",
       "\\item '<'\n",
       "\\item '='\n",
       "\\item '>'\n",
       "\\item '?'\n",
       "\\item '@'\n",
       "\\item 'A'\n",
       "\\item 'B'\n",
       "\\item 'C'\n",
       "\\item 'D'\n",
       "\\item 'E'\n",
       "\\item 'F'\n",
       "\\item 'G'\n",
       "\\item 'H'\n",
       "\\item 'I'\n",
       "\\item 'J'\n",
       "\\item 'K'\n",
       "\\item 'L'\n",
       "\\item 'M'\n",
       "\\item 'N'\n",
       "\\item 'O'\n",
       "\\item 'P'\n",
       "\\item 'Q'\n",
       "\\item 'R'\n",
       "\\item 'S'\n",
       "\\item 'T'\n",
       "\\item 'U'\n",
       "\\item 'V'\n",
       "\\item 'W'\n",
       "\\item 'X'\n",
       "\\item 'Y'\n",
       "\\item 'Z'\n",
       "\\item '{[}'\n",
       "\\item '\\textbackslash{}\\textbackslash{}'\n",
       "\\item '{]}'\n",
       "\\item '\\textasciicircum{}'\n",
       "\\item '\\_'\n",
       "\\item '`'\n",
       "\\item 'a'\n",
       "\\item 'b'\n",
       "\\item 'c'\n",
       "\\item 'd'\n",
       "\\item 'e'\n",
       "\\item 'f'\n",
       "\\item 'g'\n",
       "\\item 'h'\n",
       "\\item 'i'\n",
       "\\item 'j'\n",
       "\\item 'k'\n",
       "\\item 'l'\n",
       "\\item 'm'\n",
       "\\item 'n'\n",
       "\\item 'o'\n",
       "\\item 'p'\n",
       "\\item 'q'\n",
       "\\item 'r'\n",
       "\\item 's'\n",
       "\\item 't'\n",
       "\\item 'u'\n",
       "\\item 'v'\n",
       "\\item 'w'\n",
       "\\item 'x'\n",
       "\\item 'y'\n",
       "\\item 'z'\n",
       "\\item '\\{'\n",
       "\\item '\\textbar{}'\n",
       "\\item '\\}'\n",
       "\\item '\\textasciitilde{}'\n",
       "\\item '\\textbackslash{}177'\n",
       "\\end{enumerate*}\n"
      ],
      "text/markdown": [
       "1. ''\n",
       "2. '\\001'\n",
       "3. '\\002'\n",
       "4. '\\003'\n",
       "5. '\\004'\n",
       "6. '\\005'\n",
       "7. '\\006'\n",
       "8. '\\a'\n",
       "9. '\\b'\n",
       "10. '\\t'\n",
       "11. '\\n'\n",
       "12. '\\v'\n",
       "13. '\\f'\n",
       "14. '\\r'\n",
       "15. '\\016'\n",
       "16. '\\017'\n",
       "17. '\\020'\n",
       "18. '\\021'\n",
       "19. '\\022'\n",
       "20. '\\023'\n",
       "21. '\\024'\n",
       "22. '\\025'\n",
       "23. '\\026'\n",
       "24. '\\027'\n",
       "25. '\\030'\n",
       "26. '\\031'\n",
       "27. '\\032'\n",
       "28. '\\033'\n",
       "29. '\\034'\n",
       "30. '\\035'\n",
       "31. '\\036'\n",
       "32. '\\037'\n",
       "33. ' '\n",
       "34. '!'\n",
       "35. '\"'\n",
       "36. '#'\n",
       "37. '$'\n",
       "38. '%'\n",
       "39. '&amp;'\n",
       "40. '\\''\n",
       "41. '('\n",
       "42. ')'\n",
       "43. '*'\n",
       "44. '+'\n",
       "45. ','\n",
       "46. '-'\n",
       "47. '.'\n",
       "48. '/'\n",
       "49. '0'\n",
       "50. '1'\n",
       "51. '2'\n",
       "52. '3'\n",
       "53. '4'\n",
       "54. '5'\n",
       "55. '6'\n",
       "56. '7'\n",
       "57. '8'\n",
       "58. '9'\n",
       "59. ':'\n",
       "60. ';'\n",
       "61. '&lt;'\n",
       "62. '='\n",
       "63. '&gt;'\n",
       "64. '?'\n",
       "65. '@'\n",
       "66. 'A'\n",
       "67. 'B'\n",
       "68. 'C'\n",
       "69. 'D'\n",
       "70. 'E'\n",
       "71. 'F'\n",
       "72. 'G'\n",
       "73. 'H'\n",
       "74. 'I'\n",
       "75. 'J'\n",
       "76. 'K'\n",
       "77. 'L'\n",
       "78. 'M'\n",
       "79. 'N'\n",
       "80. 'O'\n",
       "81. 'P'\n",
       "82. 'Q'\n",
       "83. 'R'\n",
       "84. 'S'\n",
       "85. 'T'\n",
       "86. 'U'\n",
       "87. 'V'\n",
       "88. 'W'\n",
       "89. 'X'\n",
       "90. 'Y'\n",
       "91. 'Z'\n",
       "92. '['\n",
       "93. '\\\\'\n",
       "94. ']'\n",
       "95. '^'\n",
       "96. '_'\n",
       "97. '`'\n",
       "98. 'a'\n",
       "99. 'b'\n",
       "100. 'c'\n",
       "101. 'd'\n",
       "102. 'e'\n",
       "103. 'f'\n",
       "104. 'g'\n",
       "105. 'h'\n",
       "106. 'i'\n",
       "107. 'j'\n",
       "108. 'k'\n",
       "109. 'l'\n",
       "110. 'm'\n",
       "111. 'n'\n",
       "112. 'o'\n",
       "113. 'p'\n",
       "114. 'q'\n",
       "115. 'r'\n",
       "116. 's'\n",
       "117. 't'\n",
       "118. 'u'\n",
       "119. 'v'\n",
       "120. 'w'\n",
       "121. 'x'\n",
       "122. 'y'\n",
       "123. 'z'\n",
       "124. '{'\n",
       "125. '|'\n",
       "126. '}'\n",
       "127. '~'\n",
       "128. '\\177'\n",
       "\n",
       "\n"
      ],
      "text/plain": [
       "  [1] \"\"     \"\\001\" \"\\002\" \"\\003\" \"\\004\" \"\\005\" \"\\006\" \"\\a\"   \"\\b\"   \"\\t\"  \n",
       " [11] \"\\n\"   \"\\v\"   \"\\f\"   \"\\r\"   \"\\016\" \"\\017\" \"\\020\" \"\\021\" \"\\022\" \"\\023\"\n",
       " [21] \"\\024\" \"\\025\" \"\\026\" \"\\027\" \"\\030\" \"\\031\" \"\\032\" \"\\033\" \"\\034\" \"\\035\"\n",
       " [31] \"\\036\" \"\\037\" \" \"    \"!\"    \"\\\"\"   \"#\"    \"$\"    \"%\"    \"&\"    \"'\"   \n",
       " [41] \"(\"    \")\"    \"*\"    \"+\"    \",\"    \"-\"    \".\"    \"/\"    \"0\"    \"1\"   \n",
       " [51] \"2\"    \"3\"    \"4\"    \"5\"    \"6\"    \"7\"    \"8\"    \"9\"    \":\"    \";\"   \n",
       " [61] \"<\"    \"=\"    \">\"    \"?\"    \"@\"    \"A\"    \"B\"    \"C\"    \"D\"    \"E\"   \n",
       " [71] \"F\"    \"G\"    \"H\"    \"I\"    \"J\"    \"K\"    \"L\"    \"M\"    \"N\"    \"O\"   \n",
       " [81] \"P\"    \"Q\"    \"R\"    \"S\"    \"T\"    \"U\"    \"V\"    \"W\"    \"X\"    \"Y\"   \n",
       " [91] \"Z\"    \"[\"    \"\\\\\"   \"]\"    \"^\"    \"_\"    \"`\"    \"a\"    \"b\"    \"c\"   \n",
       "[101] \"d\"    \"e\"    \"f\"    \"g\"    \"h\"    \"i\"    \"j\"    \"k\"    \"l\"    \"m\"   \n",
       "[111] \"n\"    \"o\"    \"p\"    \"q\"    \"r\"    \"s\"    \"t\"    \"u\"    \"v\"    \"w\"   \n",
       "[121] \"x\"    \"y\"    \"z\"    \"{\"    \"|\"    \"}\"    \"~\"    \"\\177\""
      ]
     },
     "metadata": {},
     "output_type": "display_data"
    }
   ],
   "source": [
    "# integers 0, 1, ..., 127 and corresponding ascii character\n",
    "sapply(0:127, intToUtf8)"
   ]
  },
  {
   "cell_type": "markdown",
   "metadata": {},
   "source": [
    "* Extended ASCII: 8 bits, $2^8=256$ characters.  "
   ]
  },
  {
   "cell_type": "code",
   "execution_count": 6,
   "metadata": {
    "vscode": {
     "languageId": "r"
    }
   },
   "outputs": [
    {
     "data": {
      "text/html": [
       "<style>\n",
       ".list-inline {list-style: none; margin:0; padding: 0}\n",
       ".list-inline>li {display: inline-block}\n",
       ".list-inline>li:not(:last-child)::after {content: \"\\00b7\"; padding: 0 .5ex}\n",
       "</style>\n",
       "<ol class=list-inline><li>'\\u0080'</li><li>'\\u0081'</li><li>'\\u0082'</li><li>'\\u0083'</li><li>'\\u0084'</li><li>'\\u0085'</li><li>'\\u0086'</li><li>'\\u0087'</li><li>'\\u0088'</li><li>'\\u0089'</li><li>'\\u008a'</li><li>'\\u008b'</li><li>'\\u008c'</li><li>'\\u008d'</li><li>'\\u008e'</li><li>'\\u008f'</li><li>'\\u0090'</li><li>'\\u0091'</li><li>'\\u0092'</li><li>'\\u0093'</li><li>'\\u0094'</li><li>'\\u0095'</li><li>'\\u0096'</li><li>'\\u0097'</li><li>'\\u0098'</li><li>'\\u0099'</li><li>'\\u009a'</li><li>'\\u009b'</li><li>'\\u009c'</li><li>'\\u009d'</li><li>'\\u009e'</li><li>'\\u009f'</li><li>' '</li><li>'¡'</li><li>'¢'</li><li>'£'</li><li>'¤'</li><li>'¥'</li><li>'¦'</li><li>'§'</li><li>'¨'</li><li>'©'</li><li>'ª'</li><li>'«'</li><li>'¬'</li><li>'­'</li><li>'®'</li><li>'¯'</li><li>'°'</li><li>'±'</li><li>'²'</li><li>'³'</li><li>'´'</li><li>'µ'</li><li>'¶'</li><li>'·'</li><li>'¸'</li><li>'¹'</li><li>'º'</li><li>'»'</li><li>'¼'</li><li>'½'</li><li>'¾'</li><li>'¿'</li><li>'À'</li><li>'Á'</li><li>'Â'</li><li>'Ã'</li><li>'Ä'</li><li>'Å'</li><li>'Æ'</li><li>'Ç'</li><li>'È'</li><li>'É'</li><li>'Ê'</li><li>'Ë'</li><li>'Ì'</li><li>'Í'</li><li>'Î'</li><li>'Ï'</li><li>'Ð'</li><li>'Ñ'</li><li>'Ò'</li><li>'Ó'</li><li>'Ô'</li><li>'Õ'</li><li>'Ö'</li><li>'×'</li><li>'Ø'</li><li>'Ù'</li><li>'Ú'</li><li>'Û'</li><li>'Ü'</li><li>'Ý'</li><li>'Þ'</li><li>'ß'</li><li>'à'</li><li>'á'</li><li>'â'</li><li>'ã'</li><li>'ä'</li><li>'å'</li><li>'æ'</li><li>'ç'</li><li>'è'</li><li>'é'</li><li>'ê'</li><li>'ë'</li><li>'ì'</li><li>'í'</li><li>'î'</li><li>'ï'</li><li>'ð'</li><li>'ñ'</li><li>'ò'</li><li>'ó'</li><li>'ô'</li><li>'õ'</li><li>'ö'</li><li>'÷'</li><li>'ø'</li><li>'ù'</li><li>'ú'</li><li>'û'</li><li>'ü'</li><li>'ý'</li><li>'þ'</li><li>'ÿ'</li></ol>\n"
      ],
      "text/latex": [
       "\\begin{enumerate*}\n",
       "\\item '\\textbackslash{}u0080'\n",
       "\\item '\\textbackslash{}u0081'\n",
       "\\item '\\textbackslash{}u0082'\n",
       "\\item '\\textbackslash{}u0083'\n",
       "\\item '\\textbackslash{}u0084'\n",
       "\\item '\\textbackslash{}u0085'\n",
       "\\item '\\textbackslash{}u0086'\n",
       "\\item '\\textbackslash{}u0087'\n",
       "\\item '\\textbackslash{}u0088'\n",
       "\\item '\\textbackslash{}u0089'\n",
       "\\item '\\textbackslash{}u008a'\n",
       "\\item '\\textbackslash{}u008b'\n",
       "\\item '\\textbackslash{}u008c'\n",
       "\\item '\\textbackslash{}u008d'\n",
       "\\item '\\textbackslash{}u008e'\n",
       "\\item '\\textbackslash{}u008f'\n",
       "\\item '\\textbackslash{}u0090'\n",
       "\\item '\\textbackslash{}u0091'\n",
       "\\item '\\textbackslash{}u0092'\n",
       "\\item '\\textbackslash{}u0093'\n",
       "\\item '\\textbackslash{}u0094'\n",
       "\\item '\\textbackslash{}u0095'\n",
       "\\item '\\textbackslash{}u0096'\n",
       "\\item '\\textbackslash{}u0097'\n",
       "\\item '\\textbackslash{}u0098'\n",
       "\\item '\\textbackslash{}u0099'\n",
       "\\item '\\textbackslash{}u009a'\n",
       "\\item '\\textbackslash{}u009b'\n",
       "\\item '\\textbackslash{}u009c'\n",
       "\\item '\\textbackslash{}u009d'\n",
       "\\item '\\textbackslash{}u009e'\n",
       "\\item '\\textbackslash{}u009f'\n",
       "\\item ' '\n",
       "\\item '¡'\n",
       "\\item '¢'\n",
       "\\item '£'\n",
       "\\item '¤'\n",
       "\\item '¥'\n",
       "\\item '¦'\n",
       "\\item '§'\n",
       "\\item '¨'\n",
       "\\item '©'\n",
       "\\item 'ª'\n",
       "\\item '«'\n",
       "\\item '¬'\n",
       "\\item '­'\n",
       "\\item '®'\n",
       "\\item '¯'\n",
       "\\item '°'\n",
       "\\item '±'\n",
       "\\item '²'\n",
       "\\item '³'\n",
       "\\item '´'\n",
       "\\item 'µ'\n",
       "\\item '¶'\n",
       "\\item '·'\n",
       "\\item '¸'\n",
       "\\item '¹'\n",
       "\\item 'º'\n",
       "\\item '»'\n",
       "\\item '¼'\n",
       "\\item '½'\n",
       "\\item '¾'\n",
       "\\item '¿'\n",
       "\\item 'À'\n",
       "\\item 'Á'\n",
       "\\item 'Â'\n",
       "\\item 'Ã'\n",
       "\\item 'Ä'\n",
       "\\item 'Å'\n",
       "\\item 'Æ'\n",
       "\\item 'Ç'\n",
       "\\item 'È'\n",
       "\\item 'É'\n",
       "\\item 'Ê'\n",
       "\\item 'Ë'\n",
       "\\item 'Ì'\n",
       "\\item 'Í'\n",
       "\\item 'Î'\n",
       "\\item 'Ï'\n",
       "\\item 'Ð'\n",
       "\\item 'Ñ'\n",
       "\\item 'Ò'\n",
       "\\item 'Ó'\n",
       "\\item 'Ô'\n",
       "\\item 'Õ'\n",
       "\\item 'Ö'\n",
       "\\item '×'\n",
       "\\item 'Ø'\n",
       "\\item 'Ù'\n",
       "\\item 'Ú'\n",
       "\\item 'Û'\n",
       "\\item 'Ü'\n",
       "\\item 'Ý'\n",
       "\\item 'Þ'\n",
       "\\item 'ß'\n",
       "\\item 'à'\n",
       "\\item 'á'\n",
       "\\item 'â'\n",
       "\\item 'ã'\n",
       "\\item 'ä'\n",
       "\\item 'å'\n",
       "\\item 'æ'\n",
       "\\item 'ç'\n",
       "\\item 'è'\n",
       "\\item 'é'\n",
       "\\item 'ê'\n",
       "\\item 'ë'\n",
       "\\item 'ì'\n",
       "\\item 'í'\n",
       "\\item 'î'\n",
       "\\item 'ï'\n",
       "\\item 'ð'\n",
       "\\item 'ñ'\n",
       "\\item 'ò'\n",
       "\\item 'ó'\n",
       "\\item 'ô'\n",
       "\\item 'õ'\n",
       "\\item 'ö'\n",
       "\\item '÷'\n",
       "\\item 'ø'\n",
       "\\item 'ù'\n",
       "\\item 'ú'\n",
       "\\item 'û'\n",
       "\\item 'ü'\n",
       "\\item 'ý'\n",
       "\\item 'þ'\n",
       "\\item 'ÿ'\n",
       "\\end{enumerate*}\n"
      ],
      "text/markdown": [
       "1. '\\u0080'\n",
       "2. '\\u0081'\n",
       "3. '\\u0082'\n",
       "4. '\\u0083'\n",
       "5. '\\u0084'\n",
       "6. '\\u0085'\n",
       "7. '\\u0086'\n",
       "8. '\\u0087'\n",
       "9. '\\u0088'\n",
       "10. '\\u0089'\n",
       "11. '\\u008a'\n",
       "12. '\\u008b'\n",
       "13. '\\u008c'\n",
       "14. '\\u008d'\n",
       "15. '\\u008e'\n",
       "16. '\\u008f'\n",
       "17. '\\u0090'\n",
       "18. '\\u0091'\n",
       "19. '\\u0092'\n",
       "20. '\\u0093'\n",
       "21. '\\u0094'\n",
       "22. '\\u0095'\n",
       "23. '\\u0096'\n",
       "24. '\\u0097'\n",
       "25. '\\u0098'\n",
       "26. '\\u0099'\n",
       "27. '\\u009a'\n",
       "28. '\\u009b'\n",
       "29. '\\u009c'\n",
       "30. '\\u009d'\n",
       "31. '\\u009e'\n",
       "32. '\\u009f'\n",
       "33. ' '\n",
       "34. '¡'\n",
       "35. '¢'\n",
       "36. '£'\n",
       "37. '¤'\n",
       "38. '¥'\n",
       "39. '¦'\n",
       "40. '§'\n",
       "41. '¨'\n",
       "42. '©'\n",
       "43. 'ª'\n",
       "44. '«'\n",
       "45. '¬'\n",
       "46. '­'\n",
       "47. '®'\n",
       "48. '¯'\n",
       "49. '°'\n",
       "50. '±'\n",
       "51. '²'\n",
       "52. '³'\n",
       "53. '´'\n",
       "54. 'µ'\n",
       "55. '¶'\n",
       "56. '·'\n",
       "57. '¸'\n",
       "58. '¹'\n",
       "59. 'º'\n",
       "60. '»'\n",
       "61. '¼'\n",
       "62. '½'\n",
       "63. '¾'\n",
       "64. '¿'\n",
       "65. 'À'\n",
       "66. 'Á'\n",
       "67. 'Â'\n",
       "68. 'Ã'\n",
       "69. 'Ä'\n",
       "70. 'Å'\n",
       "71. 'Æ'\n",
       "72. 'Ç'\n",
       "73. 'È'\n",
       "74. 'É'\n",
       "75. 'Ê'\n",
       "76. 'Ë'\n",
       "77. 'Ì'\n",
       "78. 'Í'\n",
       "79. 'Î'\n",
       "80. 'Ï'\n",
       "81. 'Ð'\n",
       "82. 'Ñ'\n",
       "83. 'Ò'\n",
       "84. 'Ó'\n",
       "85. 'Ô'\n",
       "86. 'Õ'\n",
       "87. 'Ö'\n",
       "88. '×'\n",
       "89. 'Ø'\n",
       "90. 'Ù'\n",
       "91. 'Ú'\n",
       "92. 'Û'\n",
       "93. 'Ü'\n",
       "94. 'Ý'\n",
       "95. 'Þ'\n",
       "96. 'ß'\n",
       "97. 'à'\n",
       "98. 'á'\n",
       "99. 'â'\n",
       "100. 'ã'\n",
       "101. 'ä'\n",
       "102. 'å'\n",
       "103. 'æ'\n",
       "104. 'ç'\n",
       "105. 'è'\n",
       "106. 'é'\n",
       "107. 'ê'\n",
       "108. 'ë'\n",
       "109. 'ì'\n",
       "110. 'í'\n",
       "111. 'î'\n",
       "112. 'ï'\n",
       "113. 'ð'\n",
       "114. 'ñ'\n",
       "115. 'ò'\n",
       "116. 'ó'\n",
       "117. 'ô'\n",
       "118. 'õ'\n",
       "119. 'ö'\n",
       "120. '÷'\n",
       "121. 'ø'\n",
       "122. 'ù'\n",
       "123. 'ú'\n",
       "124. 'û'\n",
       "125. 'ü'\n",
       "126. 'ý'\n",
       "127. 'þ'\n",
       "128. 'ÿ'\n",
       "\n",
       "\n"
      ],
      "text/plain": [
       "  [1] \"\\u0080\" \"\\u0081\" \"\\u0082\" \"\\u0083\" \"\\u0084\" \"\\u0085\" \"\\u0086\" \"\\u0087\"\n",
       "  [9] \"\\u0088\" \"\\u0089\" \"\\u008a\" \"\\u008b\" \"\\u008c\" \"\\u008d\" \"\\u008e\" \"\\u008f\"\n",
       " [17] \"\\u0090\" \"\\u0091\" \"\\u0092\" \"\\u0093\" \"\\u0094\" \"\\u0095\" \"\\u0096\" \"\\u0097\"\n",
       " [25] \"\\u0098\" \"\\u0099\" \"\\u009a\" \"\\u009b\" \"\\u009c\" \"\\u009d\" \"\\u009e\" \"\\u009f\"\n",
       " [33] \" \"      \"¡\"      \"¢\"      \"£\"      \"¤\"      \"¥\"      \"¦\"      \"§\"     \n",
       " [41] \"¨\"      \"©\"      \"ª\"      \"«\"      \"¬\"      \"­\"      \"®\"      \"¯\"     \n",
       " [49] \"°\"      \"±\"      \"²\"      \"³\"      \"´\"      \"µ\"      \"¶\"      \"·\"     \n",
       " [57] \"¸\"      \"¹\"      \"º\"      \"»\"      \"¼\"      \"½\"      \"¾\"      \"¿\"     \n",
       " [65] \"À\"      \"Á\"      \"Â\"      \"Ã\"      \"Ä\"      \"Å\"      \"Æ\"      \"Ç\"     \n",
       " [73] \"È\"      \"É\"      \"Ê\"      \"Ë\"      \"Ì\"      \"Í\"      \"Î\"      \"Ï\"     \n",
       " [81] \"Ð\"      \"Ñ\"      \"Ò\"      \"Ó\"      \"Ô\"      \"Õ\"      \"Ö\"      \"×\"     \n",
       " [89] \"Ø\"      \"Ù\"      \"Ú\"      \"Û\"      \"Ü\"      \"Ý\"      \"Þ\"      \"ß\"     \n",
       " [97] \"à\"      \"á\"      \"â\"      \"ã\"      \"ä\"      \"å\"      \"æ\"      \"ç\"     \n",
       "[105] \"è\"      \"é\"      \"ê\"      \"ë\"      \"ì\"      \"í\"      \"î\"      \"ï\"     \n",
       "[113] \"ð\"      \"ñ\"      \"ò\"      \"ó\"      \"ô\"      \"õ\"      \"ö\"      \"÷\"     \n",
       "[121] \"ø\"      \"ù\"      \"ú\"      \"û\"      \"ü\"      \"ý\"      \"þ\"      \"ÿ\"     "
      ]
     },
     "metadata": {},
     "output_type": "display_data"
    }
   ],
   "source": [
    "# integers 128, 129, ..., 255 and corresponding extended ascii character\n",
    "sapply(128:255, intToUtf8)"
   ]
  },
  {
   "cell_type": "markdown",
   "metadata": {},
   "source": [
    "* Unicode: UTF-8, UTF-16 and UTF-32 support many more characters including foreign characters; last 7 digits conform to ASCII. \n",
    "\n",
    "* [UTF-8](https://en.wikipedia.org/wiki/UTF-8) is the current dominant character encoding on internet.  \n",
    "\n",
    "<img src=\"./unicode.png\" width=\"800\" align=\"center\"/>\n",
    "\n",
    "Source: [Google Blog](https://googleblog.blogspot.com/2012/02/unicode-over-60-percent-of-web.html)"
   ]
  },
  {
   "cell_type": "code",
   "execution_count": 7,
   "metadata": {
    "vscode": {
     "languageId": "r"
    }
   },
   "outputs": [
    {
     "data": {
      "text/html": [
       "'통계계산'"
      ],
      "text/latex": [
       "'통계계산'"
      ],
      "text/markdown": [
       "'통계계산'"
      ],
      "text/plain": [
       "[1] \"통계계산\""
      ]
     },
     "metadata": {},
     "output_type": "display_data"
    }
   ],
   "source": [
    "st <-  \"\\uD1B5\\uACC4\\uACC4\\uC0B0\"\n",
    "st"
   ]
  },
  {
   "cell_type": "markdown",
   "metadata": {},
   "source": [
    "## Integers: fixed-point number system\n",
    "\n",
    "* Fixed-point number system is a computer model for integers $\\mathbb{Z}$. \n",
    "    - **Remember** that computer memory is finite whereas the cardinality of $\\mathbb{Z}$ is (countably) infinite.\n",
    "    - *Any* representation of numbers in computer *has to be* an approximation.\n",
    "\n",
    "* The number $M$ of bits and method of representing negative numbers vary from system to system. \n",
    "    - The `integer` type in R has $M=32$ (packages such as ‘bit64’support 64 bit integers). \n",
    "        + <https://www.r-bloggers.com/r-in-a-64-bit-world/>\n",
    "    - C has (`unsigned`) `char`, `int`, `short`, `long` (and `long long`), whose sizes depend on the machine.\n",
    "    - Matlab has `(u)int8`, `(u)int16`, `(u)int32`, `(u)int64`.  "
   ]
  },
  {
   "cell_type": "markdown",
   "metadata": {},
   "source": [
    "### Unsigned integers\n",
    "\n",
    "* Model for $\\mathbb{N} \\cup \\{0\\}$.\n",
    "* For unsigned integers, the range is $[0,2^M-1]$.\n",
    "* R does not support unsigned integers natively (will see `uint8` package later). In most other languages:"
   ]
  },
  {
   "cell_type": "markdown",
   "metadata": {},
   "source": [
    "| Type        | Min           | Max  |\n",
    "| ------------- |:-------------:|:------|\n",
    "|UInt8\t|0\t|255|\n",
    "|UInt16\t|0\t|65535|\n",
    "|UInt32\t|0\t|4294967295|\n",
    "|UInt64\t|0\t|18446744073709551615|\n",
    "|UInt128\t|0\t|340282366920938463463374607431768211455|"
   ]
  },
  {
   "cell_type": "markdown",
   "metadata": {},
   "source": [
    "### Signed integers\n",
    "\n",
    "* Model of $\\mathbb{Z}$. Can do subtraction.\n",
    "\n",
    "* First bit (\"most significant bit\" or MSB) is the sign bit.  \n",
    "    - `0` for nonnegative numbers\n",
    "    - `1` for negative numbers  \n",
    "    \n",
    "* **Two's complement representation** for negative numbers. \n",
    "    - Set the sign bit to 1  \n",
    "    - Negate (`0`->`1`, `1`->`0`) the remaining bits\n",
    "    - Add to `1` to the result  \n",
    "    - Two's complement representation of a negative integer $x$ is the same as the unsigned integer $2^M - x$."
   ]
  },
  {
   "cell_type": "code",
   "execution_count": 8,
   "metadata": {
    "vscode": {
     "languageId": "r"
    }
   },
   "outputs": [
    {
     "data": {
      "text/html": [
       "'integer'"
      ],
      "text/latex": [
       "'integer'"
      ],
      "text/markdown": [
       "'integer'"
      ],
      "text/plain": [
       "[1] \"integer\""
      ]
     },
     "metadata": {},
     "output_type": "display_data"
    },
    {
     "data": {
      "text/html": [
       "'00000000 00000000 00000000 00000101'"
      ],
      "text/latex": [
       "'00000000 00000000 00000000 00000101'"
      ],
      "text/markdown": [
       "'00000000 00000000 00000000 00000101'"
      ],
      "text/plain": [
       "[1] \"00000000 00000000 00000000 00000101\""
      ]
     },
     "metadata": {},
     "output_type": "display_data"
    },
    {
     "data": {
      "text/html": [
       "'11111111 11111111 11111111 11111011'"
      ],
      "text/latex": [
       "'11111111 11111111 11111111 11111011'"
      ],
      "text/markdown": [
       "'11111111 11111111 11111111 11111011'"
      ],
      "text/plain": [
       "[1] \"11111111 11111111 11111111 11111011\""
      ]
     },
     "metadata": {},
     "output_type": "display_data"
    },
    {
     "data": {
      "text/html": [
       "'00000000 00000000 00000000 00001010'"
      ],
      "text/latex": [
       "'00000000 00000000 00000000 00001010'"
      ],
      "text/markdown": [
       "'00000000 00000000 00000000 00001010'"
      ],
      "text/plain": [
       "[1] \"00000000 00000000 00000000 00001010\""
      ]
     },
     "metadata": {},
     "output_type": "display_data"
    },
    {
     "data": {
      "text/html": [
       "'11111111 11111111 11111111 11110110'"
      ],
      "text/latex": [
       "'11111111 11111111 11111111 11110110'"
      ],
      "text/markdown": [
       "'11111111 11111111 11111111 11110110'"
      ],
      "text/plain": [
       "[1] \"11111111 11111111 11111111 11110110\""
      ]
     },
     "metadata": {},
     "output_type": "display_data"
    }
   ],
   "source": [
    "class(5L)  # postfix `L` means integer in R\n",
    "pryr::bits(5L)\n",
    "pryr::bits(-5L)\n",
    "pryr::bits(2L * 5L) # shift bits of 5 to the left (why?)\n",
    "pryr::bits(2L * -5L); # shift bits of -5 to left "
   ]
  },
  {
   "cell_type": "markdown",
   "metadata": {},
   "source": [
    "* Two's complement representation respects modular arithmetic nicely.  \n",
    "    Addition of any two signed integers are just bitwise addition, possibly modulo $2^M$\n",
    "    - $M=4$ case:\n",
    "    \n",
    "<img src=\"http://users.dickinson.edu/~braught/courses/cs251f02/classes/images/twosCompWheel.png\" width=\"400\" align=\"center\"/>    \n",
    "\n",
    "Source: [Signed Binary Numbers, Subtraction and Overflow](http://users.dickinson.edu/~braught/courses/cs251f02/classes/notes07.html) by Grant Braught"
   ]
  },
  {
   "cell_type": "markdown",
   "metadata": {},
   "source": [
    "* **Range** of representable integers by $M$-bit **signed integer** is $[-2^{M-1},2^{M-1}-1]$:"
   ]
  },
  {
   "cell_type": "code",
   "execution_count": 9,
   "metadata": {
    "vscode": {
     "languageId": "r"
    }
   },
   "outputs": [
    {
     "data": {
      "text/html": [
       "2147483647"
      ],
      "text/latex": [
       "2147483647"
      ],
      "text/markdown": [
       "2147483647"
      ],
      "text/plain": [
       "[1] 2147483647"
      ]
     },
     "metadata": {},
     "output_type": "display_data"
    }
   ],
   "source": [
    ".Machine$integer.max  # R uses 32-bit integer"
   ]
  },
  {
   "cell_type": "markdown",
   "metadata": {},
   "source": [
    "In most other languages,\n",
    "\n",
    "| Type        | Min           | Max  |\n",
    "| ------------- |--------------:|:------|\n",
    "|Int8\t|\t-128|127|\n",
    "|Int16\t|-32768\t|32767|\n",
    "|Int32\t|-2147483648\t|2147483647|\n",
    "|Int64\t|-9223372036854775808\t|9223372036854775807|\n",
    "|Int128\t|-170141183460469231731687303715884105728\t|170141183460469231731687303715884105727|"
   ]
  },
  {
   "cell_type": "markdown",
   "metadata": {},
   "source": [
    "### Overflow and underflow for integer arithmetic\n",
    "\n",
    "R reports `NA` for integer overflow and underflow.  "
   ]
  },
  {
   "cell_type": "code",
   "execution_count": 10,
   "metadata": {
    "vscode": {
     "languageId": "r"
    }
   },
   "outputs": [
    {
     "data": {
      "text/html": [
       "2147483647"
      ],
      "text/latex": [
       "2147483647"
      ],
      "text/markdown": [
       "2147483647"
      ],
      "text/plain": [
       "[1] 2147483647"
      ]
     },
     "metadata": {},
     "output_type": "display_data"
    }
   ],
   "source": [
    "# The largest integer R can hold\n",
    ".Machine$integer.max "
   ]
  },
  {
   "cell_type": "code",
   "execution_count": 11,
   "metadata": {
    "vscode": {
     "languageId": "r"
    }
   },
   "outputs": [
    {
     "data": {
      "text/html": [
       "2147483647"
      ],
      "text/latex": [
       "2147483647"
      ],
      "text/markdown": [
       "2147483647"
      ],
      "text/plain": [
       "[1] 2147483647"
      ]
     },
     "metadata": {},
     "output_type": "display_data"
    }
   ],
   "source": [
    "M <- 32\n",
    "big <- 2^(M-1) - 1\n",
    "as.integer(big)"
   ]
  },
  {
   "cell_type": "code",
   "execution_count": 12,
   "metadata": {
    "vscode": {
     "languageId": "r"
    }
   },
   "outputs": [
    {
     "name": "stderr",
     "output_type": "stream",
     "text": [
      "Warning message in .Machine$integer.max + 1L:\n",
      "“NAs produced by integer overflow”\n"
     ]
    },
    {
     "data": {
      "text/html": [
       "&lt;NA&gt;"
      ],
      "text/latex": [
       "<NA>"
      ],
      "text/markdown": [
       "&lt;NA&gt;"
      ],
      "text/plain": [
       "[1] NA"
      ]
     },
     "metadata": {},
     "output_type": "display_data"
    }
   ],
   "source": [
    ".Machine$integer.max + 1L"
   ]
  },
  {
   "cell_type": "markdown",
   "metadata": {},
   "source": [
    "`unit8` outputs the result according to modular arithmetic. So does C and Julia."
   ]
  },
  {
   "cell_type": "code",
   "execution_count": 13,
   "metadata": {
    "vscode": {
     "languageId": "r"
    }
   },
   "outputs": [
    {
     "data": {
      "text/plain": [
       "[1] 0"
      ]
     },
     "metadata": {},
     "output_type": "display_data"
    },
    {
     "data": {
      "text/plain": [
       "[1] 9"
      ]
     },
     "metadata": {},
     "output_type": "display_data"
    }
   ],
   "source": [
    "uint8::as.uint8(255) + uint8::as.uint8(1)\n",
    "uint8::as.uint8(250) + uint8::as.uint8(15)"
   ]
  },
  {
   "cell_type": "markdown",
   "metadata": {},
   "source": [
    "Package `gmp` supports big integers with arbitrary precision."
   ]
  },
  {
   "cell_type": "code",
   "execution_count": 14,
   "metadata": {
    "vscode": {
     "languageId": "r"
    }
   },
   "outputs": [
    {
     "data": {
      "text/plain": [
       "Big Integer ('bigz') :\n",
       "[1] 2147483648"
      ]
     },
     "metadata": {},
     "output_type": "display_data"
    }
   ],
   "source": [
    "gmp::as.bigz(.Machine$integer.max ) + gmp::as.bigz(1L)"
   ]
  },
  {
   "cell_type": "markdown",
   "metadata": {},
   "source": [
    "## Real numbers: floating-point number system\n",
    "\n",
    "Floating-point number system is a computer model for the real line $\\mathbb{R}$.\n",
    "\n",
    "* Most computer systems adopt the [IEEE 754 standard](https://en.wikipedia.org/wiki/IEEE_floating_point), established in 1985, for floating-point arithmetics.  \n",
    "For the history, see an [interview with William Kahan](http://www.cs.berkeley.edu/~wkahan/ieee754status/754story.html).\n",
    "\n",
    "* In the scientific notation, a real number is represented as\n",
    "$$\n",
    "\\pm d_1.d_2d_3 \\cdots d_p \\times b^e, \\quad 0 \\le d_i < b.\n",
    "$$\n",
    "Humans use the _base_ $b=10$ and _digits_ $d_i=0, 1, \\dotsc, 9$.\\\n",
    "    In computer, the base is $b=2$ and the digits $d_i$ are 0 or 1.\n",
    "\n",
    "* **Normalized** vs **denormalized** numbers. For example, decimal number 18 is\n",
    "$$ +1.0010 \\times 2^4 \\quad (\\text{normalized})$$\n",
    "or, equivalently,\n",
    "$$ +0.1001 \\times 2^5 \\quad (\\text{denormalized}).$$\n",
    "\n",
    "* In the floating-number system, computer stores \n",
    "    - sign bit  \n",
    "    - the _fraction_ (or _mantissa_, or _significand_) of the **normalized** representation\n",
    "    - the actual exponent _plus_ a bias"
   ]
  },
  {
   "cell_type": "markdown",
   "metadata": {},
   "source": [
    "* R supports *double precesion* floating point numbers (see below) via `double`. \n",
    "\n",
    "* C supports floating point types `float` and `double`, where in most systems `float` corresponds to single precision while `double` corresponds to double precision.\n",
    "\n",
    "* Julia provides `Float16` (half precision, implemented in software using `Float32`), `Float32` (single precision), `Float64` (double precision), and `BigFloat` (arbitrary precision).\n",
    "\n",
    "> R has no single precision data type. All real numbers are stored in double precision format. The functions `as.single` and `single` are identical to `as.double` and `double` except they set the attribute `Csingle` that is used in the `.C` and `.Fortran` interface, and they are intended only to be used in that context. [R Documentation](https://stat.ethz.ch/R-manual/R-devel/library/base/html/double.html)\n",
    "\n",
    "* For ease of exposition, we begin with half precision."
   ]
  },
  {
   "cell_type": "markdown",
   "metadata": {},
   "source": [
    "### Half precision (Float16)\n",
    "\n",
    "<img src=\"./half-precision-numbers.png\" width=\"300\" align=\"center\"/>\n",
    "\n",
    "Source: <https://en.wikipedia.org/wiki/Half-precision_floating-point_format>\n",
    "    \n",
    "- In Julia, `Float16` is the type for half precision numbers.\n",
    "\n",
    "- MSB is the sign bit.  \n",
    "\n",
    "- 10 significand bits (**fraction**=**mantissa**), hence $p=11$ (why?)\n",
    "\n",
    "- 5 exponent bits: $e_{\\max}=15$, $e_{\\min}=-14$, **bias**=15 = $01111_2$ for encoding:\n",
    "    + $e_{\\min} = \\mathbf{00001_2} - 01111_2 = -14_{10}$\n",
    "    + $e_{\\max} = \\mathbf{11110_2} - 01111_2 = 15_{10}$\n",
    "\n",
    "- $e_{\\text{min}}-1$ and $e_{\\text{max}}+1$ are reserved for special numbers.  \n",
    "\n",
    "- range of **magnitude**: $10^{\\pm 4}$ in decimal because $\\log_{10} (2^{15}) \\approx 4$.  \n",
    "\n",
    "- **Precision**: $\\log_{10}2^{11} \\approx 3.311$ decimal digits. \n",
    "\n",
    "$$\n",
    "(value) = (-1)^{b_{15}}\\times 2^{(\\sum_{j=1}^5 b_{15-j}2^{5-j}) - 15} \\times \\left( 1 + \\sum_{i=1}^{10}\\frac{b_{10-i}}{2^i}\\right)\n",
    "$$"
   ]
  },
  {
   "cell_type": "markdown",
   "metadata": {},
   "source": [
    "```Julia\n",
    "# This is Julia\n",
    "println(\"Half precision:\")\n",
    "@show bitstring(Float16(5)) # 5 in half precision\n",
    "@show bitstring(Float16(-5)); # -5 in half precision\n",
    "```\n",
    "\n",
    "```\n",
    "Half precision:\n",
    "bitstring(Float16(5)) = \"0100010100000000\"\n",
    "bitstring(Float16(-5)) = \"1100010100000000\"\n",
    "```"
   ]
  },
  {
   "cell_type": "markdown",
   "metadata": {},
   "source": [
    "### Single precision (Float32, or `float`)\n",
    "\n",
    "<img src=\"./single-precision-numbers.png\" width=\"600\" align=\"center\"/>\n",
    "\n",
    "Source: <https://en.wikipedia.org/wiki/Single-precision_floating-point_format>\n",
    "\n",
    "- In C, `float` is the type for single precision numbers for most systems.\n",
    "- In Julia, `Float32` is the type for single precision numbers.  \n",
    "- In R, single precision is not supported natively. We use the following workaround:"
   ]
  },
  {
   "cell_type": "code",
   "execution_count": 15,
   "metadata": {
    "vscode": {
     "languageId": "r"
    }
   },
   "outputs": [],
   "source": [
    "# Homework: figure out how this C++ code works\n",
    "Rcpp::cppFunction('int float32bin(double x) {\n",
    "    float flx = (float) x; \n",
    "    unsigned int binx = *((unsigned int*)&flx); \n",
    "    return binx; \n",
    "}')"
   ]
  },
  {
   "cell_type": "markdown",
   "metadata": {},
   "source": [
    "- MSB is the sign bit.  \n",
    "\n",
    "- 23 significand bits ($p=24$).  \n",
    "\n",
    "- 8 exponent bits: $e_{\\max}=127$, $e_{\\min}=-126$, **bias**=127.  \n",
    "\n",
    "- $e_{\\text{min}}-1$ and $e_{\\text{max}}+1$ are reserved for special numbers.  \n",
    "\n",
    "- range of **magnitude**: $10^{\\pm 38}$ in decimal because $\\log_{10} (2^{127}) \\approx 38$.\n",
    "\n",
    "- **precision**: $\\log_{10}(2^{24}) \\approx 7.225$ decimal digits.  "
   ]
  },
  {
   "cell_type": "code",
   "execution_count": 16,
   "metadata": {
    "vscode": {
     "languageId": "r"
    }
   },
   "outputs": [
    {
     "name": "stderr",
     "output_type": "stream",
     "text": [
      "Single precision:\n",
      "\n"
     ]
    },
    {
     "data": {
      "text/html": [
       "'01000000 10100000 00000000 00000000'"
      ],
      "text/latex": [
       "'01000000 10100000 00000000 00000000'"
      ],
      "text/markdown": [
       "'01000000 10100000 00000000 00000000'"
      ],
      "text/plain": [
       "[1] \"01000000 10100000 00000000 00000000\""
      ]
     },
     "metadata": {},
     "output_type": "display_data"
    },
    {
     "data": {
      "text/html": [
       "'11000000 10100000 00000000 00000000'"
      ],
      "text/latex": [
       "'11000000 10100000 00000000 00000000'"
      ],
      "text/markdown": [
       "'11000000 10100000 00000000 00000000'"
      ],
      "text/plain": [
       "[1] \"11000000 10100000 00000000 00000000\""
      ]
     },
     "metadata": {},
     "output_type": "display_data"
    }
   ],
   "source": [
    "message(\"Single precision:\")\n",
    "pryr::bits(float32bin(5)) # 5 in single precision\n",
    "pryr::bits(float32bin(-5)) # -5 in single precision"
   ]
  },
  {
   "cell_type": "markdown",
   "metadata": {},
   "source": [
    "### Double precision (Float64, or `double`)\n",
    "\n",
    "<img src=\"./double-precision-numbers.png\" width=\"600\" align=\"center\"/>\n",
    "\n",
    "Source: <https://en.wikipedia.org/wiki/Double-precision_floating-point_format>\n",
    "\n",
    "- Double precision (64 bits = 8 bytes) numbers are the dominant data type in scientific computing.\n",
    "\n",
    "- In C, `double` is the type for double precision numbers for most systems. It is the **default** type for `numeric` values.\n",
    "\n",
    "- In Julia, `Float64` is the type for double precision numbers.    \n",
    "\n",
    "- In R, `double` is the type for double precision numbers.    \n",
    "\n",
    "- MSB is the sign bit.  \n",
    "\n",
    "- 52 significand bits ($p=53$).\n",
    "\n",
    "- 11 exponent bits: $e_{\\max}=1023$, $e_{\\min}=-1022$, **bias**=1023.  \n",
    "\n",
    "- $e_{\\text{min}}-1$ and $e_{\\text{max}}+1$ are reserved for special numbers.  \n",
    "\n",
    "- range of **magnitude**: $10^{\\pm 308}$ in decimal because $\\log_{10} (2^{1023}) \\approx 308$.  \n",
    "\n",
    "- **precision** to the $\\log_{10}(2^{53}) \\approx 15.95$ decimal point."
   ]
  },
  {
   "cell_type": "code",
   "execution_count": 17,
   "metadata": {
    "vscode": {
     "languageId": "r"
    }
   },
   "outputs": [
    {
     "name": "stderr",
     "output_type": "stream",
     "text": [
      "Double precision:\n",
      "\n"
     ]
    },
    {
     "data": {
      "text/html": [
       "'01000000 00010100 00000000 00000000 00000000 00000000 00000000 00000000'"
      ],
      "text/latex": [
       "'01000000 00010100 00000000 00000000 00000000 00000000 00000000 00000000'"
      ],
      "text/markdown": [
       "'01000000 00010100 00000000 00000000 00000000 00000000 00000000 00000000'"
      ],
      "text/plain": [
       "[1] \"01000000 00010100 00000000 00000000 00000000 00000000 00000000 00000000\""
      ]
     },
     "metadata": {},
     "output_type": "display_data"
    },
    {
     "data": {
      "text/html": [
       "'11000000 00010100 00000000 00000000 00000000 00000000 00000000 00000000'"
      ],
      "text/latex": [
       "'11000000 00010100 00000000 00000000 00000000 00000000 00000000 00000000'"
      ],
      "text/markdown": [
       "'11000000 00010100 00000000 00000000 00000000 00000000 00000000 00000000'"
      ],
      "text/plain": [
       "[1] \"11000000 00010100 00000000 00000000 00000000 00000000 00000000 00000000\""
      ]
     },
     "metadata": {},
     "output_type": "display_data"
    }
   ],
   "source": [
    "message(\"Double precision:\")\n",
    "pryr::bits(5)    # 5 in double precision\n",
    "pryr::bits(-5)   # -5 in double precision"
   ]
  },
  {
   "cell_type": "markdown",
   "metadata": {},
   "source": [
    "### Special floating-point numbers\n",
    "\n",
    "- Exponent $e_{\\max}+1$ plus a zero mantissa means $\\pm \\infty$."
   ]
  },
  {
   "cell_type": "code",
   "execution_count": 18,
   "metadata": {
    "vscode": {
     "languageId": "r"
    }
   },
   "outputs": [
    {
     "data": {
      "text/html": [
       "'01111111 11110000 00000000 00000000 00000000 00000000 00000000 00000000'"
      ],
      "text/latex": [
       "'01111111 11110000 00000000 00000000 00000000 00000000 00000000 00000000'"
      ],
      "text/markdown": [
       "'01111111 11110000 00000000 00000000 00000000 00000000 00000000 00000000'"
      ],
      "text/plain": [
       "[1] \"01111111 11110000 00000000 00000000 00000000 00000000 00000000 00000000\""
      ]
     },
     "metadata": {},
     "output_type": "display_data"
    },
    {
     "data": {
      "text/html": [
       "'11111111 11110000 00000000 00000000 00000000 00000000 00000000 00000000'"
      ],
      "text/latex": [
       "'11111111 11110000 00000000 00000000 00000000 00000000 00000000 00000000'"
      ],
      "text/markdown": [
       "'11111111 11110000 00000000 00000000 00000000 00000000 00000000 00000000'"
      ],
      "text/plain": [
       "[1] \"11111111 11110000 00000000 00000000 00000000 00000000 00000000 00000000\""
      ]
     },
     "metadata": {},
     "output_type": "display_data"
    }
   ],
   "source": [
    "pryr::bits(Inf)    # Inf in double precision\n",
    "pryr::bits(-Inf)   # -Inf in double precision"
   ]
  },
  {
   "cell_type": "markdown",
   "metadata": {},
   "source": [
    "- Exponent $e_{\\max}+1$ plus a nonzero mantissa means `NaN`. `NaN` could be produced from `0 / 0`, `0 * Inf`, ...  \n",
    "\n",
    "- In general `NaN ≠ NaN` bitwise. Test whether a number is `NaN` by `is.nan` function.  "
   ]
  },
  {
   "cell_type": "code",
   "execution_count": 19,
   "metadata": {
    "vscode": {
     "languageId": "r"
    }
   },
   "outputs": [
    {
     "data": {
      "text/html": [
       "'11111111 11111000 00000000 00000000 00000000 00000000 00000000 00000000'"
      ],
      "text/latex": [
       "'11111111 11111000 00000000 00000000 00000000 00000000 00000000 00000000'"
      ],
      "text/markdown": [
       "'11111111 11111000 00000000 00000000 00000000 00000000 00000000 00000000'"
      ],
      "text/plain": [
       "[1] \"11111111 11111000 00000000 00000000 00000000 00000000 00000000 00000000\""
      ]
     },
     "metadata": {},
     "output_type": "display_data"
    },
    {
     "data": {
      "text/html": [
       "'11111111 11111000 00000000 00000000 00000000 00000000 00000000 00000000'"
      ],
      "text/latex": [
       "'11111111 11111000 00000000 00000000 00000000 00000000 00000000 00000000'"
      ],
      "text/markdown": [
       "'11111111 11111000 00000000 00000000 00000000 00000000 00000000 00000000'"
      ],
      "text/plain": [
       "[1] \"11111111 11111000 00000000 00000000 00000000 00000000 00000000 00000000\""
      ]
     },
     "metadata": {},
     "output_type": "display_data"
    }
   ],
   "source": [
    "pryr::bits(0 / 0)  # NaN\n",
    "pryr::bits(0 * Inf) # NaN"
   ]
  },
  {
   "cell_type": "markdown",
   "metadata": {},
   "source": [
    "- Exponent $e_{\\min}-1$ with a zero mantissa represents the real number 0 (\"exact zero\").  \n",
    "    + Why do we need an exact zero?"
   ]
  },
  {
   "cell_type": "code",
   "execution_count": 20,
   "metadata": {
    "vscode": {
     "languageId": "r"
    }
   },
   "outputs": [
    {
     "data": {
      "text/html": [
       "'00000000 00000000 00000000 00000000 00000000 00000000 00000000 00000000'"
      ],
      "text/latex": [
       "'00000000 00000000 00000000 00000000 00000000 00000000 00000000 00000000'"
      ],
      "text/markdown": [
       "'00000000 00000000 00000000 00000000 00000000 00000000 00000000 00000000'"
      ],
      "text/plain": [
       "[1] \"00000000 00000000 00000000 00000000 00000000 00000000 00000000 00000000\""
      ]
     },
     "metadata": {},
     "output_type": "display_data"
    }
   ],
   "source": [
    "pryr::bits(0.0)  # 0 in double precision "
   ]
  },
  {
   "cell_type": "markdown",
   "metadata": {},
   "source": [
    "- Exponent $e_{\\min}-1$ with a nonzero mantissa are for numbers less than $b^{e_{\\min}}$.  \n",
    "    Numbers are _denormalized_ in the range $(0,b^{e_{\\min}})$ -- **gradual underflow**. \n",
    "- For example, in half-precision, $e_{\\min}=-14$ but $2^{-24}$ is represented by $0.0000000001_2 \\times 2^{-14}$.\n",
    "- In single precision, $e_{\\min}=-126$ but $2^{-149}$ is represented by $0.00000000000000000000001_2 \\times 2^{-126}$."
   ]
  },
  {
   "cell_type": "code",
   "execution_count": 21,
   "metadata": {
    "vscode": {
     "languageId": "r"
    }
   },
   "outputs": [
    {
     "data": {
      "text/html": [
       "1.17549435082229e-38"
      ],
      "text/latex": [
       "1.17549435082229e-38"
      ],
      "text/markdown": [
       "1.17549435082229e-38"
      ],
      "text/plain": [
       "[1] 1.175494e-38"
      ]
     },
     "metadata": {},
     "output_type": "display_data"
    },
    {
     "data": {
      "text/html": [
       "'00000000 10000000 00000000 00000000'"
      ],
      "text/latex": [
       "'00000000 10000000 00000000 00000000'"
      ],
      "text/markdown": [
       "'00000000 10000000 00000000 00000000'"
      ],
      "text/plain": [
       "[1] \"00000000 10000000 00000000 00000000\""
      ]
     },
     "metadata": {},
     "output_type": "display_data"
    },
    {
     "data": {
      "text/html": [
       "1.40129846432482e-45"
      ],
      "text/latex": [
       "1.40129846432482e-45"
      ],
      "text/markdown": [
       "1.40129846432482e-45"
      ],
      "text/plain": [
       "[1] 1.401298e-45"
      ]
     },
     "metadata": {},
     "output_type": "display_data"
    },
    {
     "data": {
      "text/html": [
       "'00000000 00000000 00000000 00000001'"
      ],
      "text/latex": [
       "'00000000 00000000 00000000 00000001'"
      ],
      "text/markdown": [
       "'00000000 00000000 00000000 00000001'"
      ],
      "text/plain": [
       "[1] \"00000000 00000000 00000000 00000001\""
      ]
     },
     "metadata": {},
     "output_type": "display_data"
    }
   ],
   "source": [
    "2^(-126)  # emin=-126\n",
    "pryr::bits(float32bin(2^(-126)))\n",
    "2^(-149)  # denormalized\n",
    "pryr::bits(float32bin(2^(-149)))"
   ]
  },
  {
   "cell_type": "markdown",
   "metadata": {},
   "source": [
    "### Rounding\n",
    "\n",
    "* Rounding is necessary whenever a number has more than $p$ significand bits. Most computer systems use the default IEEE 754 _round to nearest, ties to even_ mode: \n",
    "\n",
    "* *Round to nearest*: for example, the number 1/10 cannot be represented accurately as a (binary) floating point number:\n",
    "$$ 0.1 = 1.10011001\\dotsc_2 \\times 2^{-4} $$"
   ]
  },
  {
   "cell_type": "code",
   "execution_count": 22,
   "metadata": {
    "vscode": {
     "languageId": "r"
    }
   },
   "outputs": [
    {
     "data": {
      "text/html": [
       "'00111111 10111001 10011001 10011001 10011001 10011001 10011001 10011010'"
      ],
      "text/latex": [
       "'00111111 10111001 10011001 10011001 10011001 10011001 10011001 10011010'"
      ],
      "text/markdown": [
       "'00111111 10111001 10011001 10011001 10011001 10011001 10011001 10011010'"
      ],
      "text/plain": [
       "[1] \"00111111 10111001 10011001 10011001 10011001 10011001 10011001 10011010\""
      ]
     },
     "metadata": {},
     "output_type": "display_data"
    },
    {
     "data": {
      "text/html": [
       "'00111101 11001100 11001100 11001101'"
      ],
      "text/latex": [
       "'00111101 11001100 11001100 11001101'"
      ],
      "text/markdown": [
       "'00111101 11001100 11001100 11001101'"
      ],
      "text/plain": [
       "[1] \"00111101 11001100 11001100 11001101\""
      ]
     },
     "metadata": {},
     "output_type": "display_data"
    }
   ],
   "source": [
    "pryr::bits(0.1)  # double precision \n",
    "pryr::bits(float32bin(0.1)) # single precision, 1001 gets rounded to 101(0)"
   ]
  },
  {
   "cell_type": "markdown",
   "metadata": {},
   "source": [
    "In double precision, \n",
    "\n",
    "`1.1001 1001 1001 1001 1001 1001 1001 1001 1001 1001 1001 1001 1001 1001 ...`\n",
    "\n",
    "must be rounded to either\n",
    "\n",
    "`1.1001 1001 1001 1001 1001 1001 1001 1001 1001 1001 1001 1001 1001`\n",
    "\n",
    "or \n",
    "\n",
    "`1.1001 1001 1001 1001 1001 1001 1001 1001 1001 1001 1001 1001 1010`.\n",
    "\n",
    "The midway of these two numbers is\n",
    "\n",
    "`1.1001 1001 1001 1001 1001 1001 1001 1001 1001 1001 1001 1001 1001 1000 0...`\n",
    "\n",
    "hence $0.1_{10}$ is closer to `1.1001 1001 1001 1001 1001 1001 1001 1001 1001 1001 1001 1001 1010`."
   ]
  },
  {
   "cell_type": "markdown",
   "metadata": {},
   "source": [
    "In single precision, the number\n",
    "\n",
    "`1.1001 1001 1001 1001 1001 1001 1001 ...`\n",
    "\n",
    "falls between\n",
    "\n",
    "`1.1001 1001 1001 1001 1001 100`\n",
    "\n",
    "and\n",
    "\n",
    "`1.1001 1001 1001 1001 1001 101`.\n",
    "\n",
    "The midway between these two numbers is\n",
    "\n",
    "`1.1001 1001 1001 1001 1001 1001 0000 0...`\n",
    "\n",
    "Hence $0.1_{10}$ is closer to `1.1001 1001 1001 1001 1001 101`."
   ]
  },
  {
   "cell_type": "markdown",
   "metadata": {},
   "source": [
    "* *Ties to even*: if the number falls midway, it is rounded to the nearest value with an even least significant digit.\n",
    "\n",
    "* For example, consider the case that the precision is 4 binary digits\n",
    "\n",
    "\n",
    "Exact number | Rounded value | Remainder bits |\n",
    "-------------|---------------|----------------|\n",
    "1.000011*2^1 | 1.000*2^1     | 011 -> round down\n",
    "1.000110*2^1 | 1.001*2^1     | 110 -> round up\n",
    "1.011100*2^1 | 1.100*2^1     | 100 -> round up (*)\n",
    "1.010100*2^1 | 1.010*2^1     | 100 -> round down (**)\n",
    "\n",
    "\n",
    "- In the third example (*), `1.011 100` is precisely midway between `1.011` and `1.100`. The ties to even rule chooses `1.100`, i.e., the representation whose the least significant bit is zero.\n",
    "\n",
    "- In the fourth example (**), `1.010 100` is also precisely midway between `1.010` and `1.011`. The ties to even rule now chooses to round down to `1.010`.\n",
    "\n",
    "- To summarize, if the remainder bits below the precision are `1000 0...`, then the ties to even rule applies."
   ]
  },
  {
   "cell_type": "markdown",
   "metadata": {},
   "source": [
    "### Errors\n",
    "\n",
    "Rounding (more fundamentally, finite precision) incurs errors in floating porint computation. If a real number $x$ is represented by a floating point number $[x]$, then\n",
    "\n",
    "* Absolute error\n",
    "$$\n",
    "    | [x] - x |\n",
    "$$\n",
    "\n",
    "* Relative error\n",
    "$$\n",
    "    \\frac{| [x] - x |}{|x|}\n",
    "$$\n",
    "(if $x \\neq 0$).\n",
    "\n",
    "Of course, we want to ensure that the error after a computation is small."
   ]
  },
  {
   "cell_type": "markdown",
   "metadata": {},
   "source": [
    "### Machine epsilons\n",
    "\n",
    "- Floating-point numbers do not occur uniformly over the real number line\n",
    "    <img src=\"http://www.volkerschatz.com/science/pics/fltscale-wh.png\" width=\"700\" align=\"center\"/>\n",
    "    \n",
    "Source: [What you never wanted to know about floating point but will be forced to find out](http://www.volkerschatz.com/science/float.html)\n",
    "    \n",
    "- Same number of representible numbers in $(2^i, 2^{i+1}]$ as in $(2^{i+1}, 2^{i+2}]$. Within an interval, they are uniformly distributed.\n",
    "    \n",
    "- **Machine epsilons** are the spacings of numbers around 1: \n",
    "    + $\\epsilon_{\\max}$ = (smallest positive floating point number that added to 1 will give a result different from 1) = $\\frac{1}{2^p} + \\frac{1}{2^{2p-1}}$\n",
    "    + $\\epsilon_{\\min}$ = (smallest positive floating point number that subtracted from 1 will give a result different from 1) = $\\frac{1}{2^{p+1}} + \\frac{1}{2^{2p}}$.\n",
    "    \n",
    "    <img src=\"./machine_epsilons.png\" width=\"500\" align=\"center\"/>\n",
    "\n",
    "Source: *Computational Statistics*, James Gentle, Springer, New York, 2009.\n",
    "    \n",
    "- Any real number in the interval $\\left[1 - \\frac{1}{2^{p+1}}, 1 + \\frac{1}{2^p}\\right]$ is represented by a floating point number $1 = 1.00\\dotsc 0_2 \\times 2^0$ (recall ties to even).\n",
    "\n",
    "- Adding $\\frac{1}{2^p}$ to 1 won't reach the next representable floating point number  $1.00\\dotsc 01_2 \\times 2^0 = 1 + \\frac{1}{2^{p-1}}$. Hence $\\epsilon_{\\max} > \\frac{1}{2^p} = 1.00\\dotsc 0_2 \\times 2^{-p}$.\n",
    "\n",
    "- Adding the floating point number next to $\\frac{1}{2^p} = 1.00\\dotsc 0_2 \\times 2^{-p}$ to 1 WILL result in $1.00\\dotsc 01_2 \\times 2^0 = 1 + \\frac{1}{2^{p-1}}$, hence $\\epsilon_{\\max} = 1.00\\dotsc 01_2 \\times 2^{-p} = \\frac{1}{2^p} + \\frac{1}{2^{p+p-1}}$.\n",
    "\n",
    "- Subtracting $\\frac{1}{2^{p+1}}$ from 1 results in $1-\\frac{1}{2^{p+1}} = \\frac{1}{2} + \\frac{1}{2^2} + \\dotsb + \\frac{1}{2^p} + \\frac{1}{2^{p+1}}$, which is represented by the floating point number $1.00\\dotsc 0_2 \\times 2^{0} = 1$ by the \"ties to even\" rule. Hence $\\epsilon_{\\min} > \\frac{1}{2^{p+1}}$.\n",
    "\n",
    "- The smallest positive floating point number larger than $\\frac{1}{2^{p+1}}$ is $\\frac{1}{2^{p+1}} + \\frac{1}{2^{2p}}=1.00\\dotsc 1_2 \\times 2^{-p-1}$. Thus $\\epsilon_{\\min} = \\frac{1}{2^{p+1}} + \\frac{1}{2^{2p}}$."
   ]
  },
  {
   "cell_type": "markdown",
   "metadata": {},
   "source": [
    "### Machine precision\n",
    "\n",
    "* Machine epsilon is often called the machine precision.\n",
    "\n",
    "* If a positive real number $x \\in \\mathbb{R}$ is represented by $[x]$ in the floating point arithmetic, then \n",
    "$$\n",
    "    [x] = \\left( 1 + \\sum_{i=1}^{p-1}\\frac{b_{i+1}}{2^i}\\right) \\times 2^e.\n",
    "$$\n",
    "Thus $x - \\frac{2^e}{2^p} < [x] \\le x + \\frac{2^e}{2^p}$, \n",
    "and\n",
    "$$\n",
    "    \\begin{split}\n",
    "    \\frac{| x - [x] |}{|x|} &\\le \\frac{2^e}{2^p|x|} \\le \\frac{2^e}{2^p}\\frac{1}{[x]-2^e/2^p} \\\\\n",
    "                            &\\le \\frac{2^e}{2^p}\\frac{1}{2^e(1-1/2^p)}  \\quad (\\because [x] \\ge 2^e) \\\\\n",
    "                            &\\le \\frac{2^e}{2^p}\\frac{1}{2^e}(1 + \\frac{1}{2^{p-1}}) \\\\\n",
    "                            &= \\frac{1}{2^p} + \\frac{1}{2^{2p-1}} = \\epsilon_{\\max}.\n",
    "    \\end{split}\n",
    "$$\n",
    "That is, the **relative error** of the floating point representation $[x]$ of real number $x$ is bounded by $\\epsilon_{\\max}$."
   ]
  },
  {
   "cell_type": "code",
   "execution_count": 23,
   "metadata": {
    "vscode": {
     "languageId": "r"
    }
   },
   "outputs": [
    {
     "name": "stdout",
     "output_type": "stream",
     "text": [
      "[1] 1.1102230246251567869e-16\n",
      "[1] 1\n",
      "[1] 1.000000000000000222\n",
      "[1] 1\n",
      "[1] 5.9604651880817982601e-08\n",
      "[1] 1\n",
      "[1] 1.0000001192092895508\n"
     ]
    }
   ],
   "source": [
    "options(digits=20)\n",
    "\n",
    "print(2^(-53) + 2^(-105))   # epsilon_max for double\n",
    "print(1.0 + 2^(-53))\n",
    "print(1.0 + (2^(-53) + 2^(-105)))\n",
    "print(1.0 + 2^(-53) + 2^(-105))  # why is the result?  See \"Catastrophic cancellation\"\n",
    "\n",
    "print(as.double(float::fl(2^(-24) + 2^(-47))))  # epsilon_max for float\n",
    "print(as.double(float::fl(1.0) + float::fl(2^(-24))))\n",
    "print(as.double(float::fl(1.0) + float::fl(2^(-24) + 2^(-47))))"
   ]
  },
  {
   "cell_type": "code",
   "execution_count": 24,
   "metadata": {
    "vscode": {
     "languageId": "r"
    }
   },
   "outputs": [
    {
     "name": "stdout",
     "output_type": "stream",
     "text": [
      "[1] 5.5511151231257839347e-17\n",
      "[1] 0.99999999999999988898\n"
     ]
    },
    {
     "data": {
      "text/html": [
       "'00111111 11110000 00000000 00000000 00000000 00000000 00000000 00000000'"
      ],
      "text/latex": [
       "'00111111 11110000 00000000 00000000 00000000 00000000 00000000 00000000'"
      ],
      "text/markdown": [
       "'00111111 11110000 00000000 00000000 00000000 00000000 00000000 00000000'"
      ],
      "text/plain": [
       "[1] \"00111111 11110000 00000000 00000000 00000000 00000000 00000000 00000000\""
      ]
     },
     "metadata": {},
     "output_type": "display_data"
    },
    {
     "data": {
      "text/html": [
       "'00111111 11101111 11111111 11111111 11111111 11111111 11111111 11111111'"
      ],
      "text/latex": [
       "'00111111 11101111 11111111 11111111 11111111 11111111 11111111 11111111'"
      ],
      "text/markdown": [
       "'00111111 11101111 11111111 11111111 11111111 11111111 11111111 11111111'"
      ],
      "text/plain": [
       "[1] \"00111111 11101111 11111111 11111111 11111111 11111111 11111111 11111111\""
      ]
     },
     "metadata": {},
     "output_type": "display_data"
    }
   ],
   "source": [
    "print(2^(-54) + 2^(-106))  # epsilon_min for double\n",
    "print(1 - (2^(-54) + 2^(-106)))\n",
    "pryr::bits(1.0)\n",
    "pryr::bits(1 - (2^(-54) + 2^(-106)))"
   ]
  },
  {
   "cell_type": "markdown",
   "metadata": {},
   "source": [
    "* In R, the variable `.Machine` contains numerical characteristics of the machine. `double.neg.eps` is our $\\epsilon_{\\max}$."
   ]
  },
  {
   "cell_type": "code",
   "execution_count": 25,
   "metadata": {
    "vscode": {
     "languageId": "r"
    }
   },
   "outputs": [
    {
     "data": {
      "text/html": [
       "<dl>\n",
       "\t<dt>$double.eps</dt>\n",
       "\t\t<dd>2.22044604925031e-16</dd>\n",
       "\t<dt>$double.neg.eps</dt>\n",
       "\t\t<dd>1.11022302462516e-16</dd>\n",
       "\t<dt>$double.xmin</dt>\n",
       "\t\t<dd>2.2250738585072e-308</dd>\n",
       "\t<dt>$double.xmax</dt>\n",
       "\t\t<dd>1.79769313486232e+308</dd>\n",
       "\t<dt>$double.base</dt>\n",
       "\t\t<dd>2</dd>\n",
       "\t<dt>$double.digits</dt>\n",
       "\t\t<dd>53</dd>\n",
       "\t<dt>$double.rounding</dt>\n",
       "\t\t<dd>5</dd>\n",
       "\t<dt>$double.guard</dt>\n",
       "\t\t<dd>0</dd>\n",
       "\t<dt>$double.ulp.digits</dt>\n",
       "\t\t<dd>-52</dd>\n",
       "\t<dt>$double.neg.ulp.digits</dt>\n",
       "\t\t<dd>-53</dd>\n",
       "\t<dt>$double.exponent</dt>\n",
       "\t\t<dd>11</dd>\n",
       "\t<dt>$double.min.exp</dt>\n",
       "\t\t<dd>-1022</dd>\n",
       "\t<dt>$double.max.exp</dt>\n",
       "\t\t<dd>1024</dd>\n",
       "\t<dt>$integer.max</dt>\n",
       "\t\t<dd>2147483647</dd>\n",
       "\t<dt>$sizeof.long</dt>\n",
       "\t\t<dd>8</dd>\n",
       "\t<dt>$sizeof.longlong</dt>\n",
       "\t\t<dd>8</dd>\n",
       "\t<dt>$sizeof.longdouble</dt>\n",
       "\t\t<dd>16</dd>\n",
       "\t<dt>$sizeof.pointer</dt>\n",
       "\t\t<dd>8</dd>\n",
       "\t<dt>$longdouble.eps</dt>\n",
       "\t\t<dd>1.0842021724855e-19</dd>\n",
       "\t<dt>$longdouble.neg.eps</dt>\n",
       "\t\t<dd>5.42101086242752e-20</dd>\n",
       "\t<dt>$longdouble.digits</dt>\n",
       "\t\t<dd>64</dd>\n",
       "\t<dt>$longdouble.rounding</dt>\n",
       "\t\t<dd>5</dd>\n",
       "\t<dt>$longdouble.guard</dt>\n",
       "\t\t<dd>0</dd>\n",
       "\t<dt>$longdouble.ulp.digits</dt>\n",
       "\t\t<dd>-63</dd>\n",
       "\t<dt>$longdouble.neg.ulp.digits</dt>\n",
       "\t\t<dd>-64</dd>\n",
       "\t<dt>$longdouble.exponent</dt>\n",
       "\t\t<dd>15</dd>\n",
       "\t<dt>$longdouble.min.exp</dt>\n",
       "\t\t<dd>-16382</dd>\n",
       "\t<dt>$longdouble.max.exp</dt>\n",
       "\t\t<dd>16384</dd>\n",
       "</dl>\n"
      ],
      "text/latex": [
       "\\begin{description}\n",
       "\\item[\\$double.eps] 2.22044604925031e-16\n",
       "\\item[\\$double.neg.eps] 1.11022302462516e-16\n",
       "\\item[\\$double.xmin] 2.2250738585072e-308\n",
       "\\item[\\$double.xmax] 1.79769313486232e+308\n",
       "\\item[\\$double.base] 2\n",
       "\\item[\\$double.digits] 53\n",
       "\\item[\\$double.rounding] 5\n",
       "\\item[\\$double.guard] 0\n",
       "\\item[\\$double.ulp.digits] -52\n",
       "\\item[\\$double.neg.ulp.digits] -53\n",
       "\\item[\\$double.exponent] 11\n",
       "\\item[\\$double.min.exp] -1022\n",
       "\\item[\\$double.max.exp] 1024\n",
       "\\item[\\$integer.max] 2147483647\n",
       "\\item[\\$sizeof.long] 8\n",
       "\\item[\\$sizeof.longlong] 8\n",
       "\\item[\\$sizeof.longdouble] 16\n",
       "\\item[\\$sizeof.pointer] 8\n",
       "\\item[\\$longdouble.eps] 1.0842021724855e-19\n",
       "\\item[\\$longdouble.neg.eps] 5.42101086242752e-20\n",
       "\\item[\\$longdouble.digits] 64\n",
       "\\item[\\$longdouble.rounding] 5\n",
       "\\item[\\$longdouble.guard] 0\n",
       "\\item[\\$longdouble.ulp.digits] -63\n",
       "\\item[\\$longdouble.neg.ulp.digits] -64\n",
       "\\item[\\$longdouble.exponent] 15\n",
       "\\item[\\$longdouble.min.exp] -16382\n",
       "\\item[\\$longdouble.max.exp] 16384\n",
       "\\end{description}\n"
      ],
      "text/markdown": [
       "$double.eps\n",
       ":   2.22044604925031e-16\n",
       "$double.neg.eps\n",
       ":   1.11022302462516e-16\n",
       "$double.xmin\n",
       ":   2.2250738585072e-308\n",
       "$double.xmax\n",
       ":   1.79769313486232e+308\n",
       "$double.base\n",
       ":   2\n",
       "$double.digits\n",
       ":   53\n",
       "$double.rounding\n",
       ":   5\n",
       "$double.guard\n",
       ":   0\n",
       "$double.ulp.digits\n",
       ":   -52\n",
       "$double.neg.ulp.digits\n",
       ":   -53\n",
       "$double.exponent\n",
       ":   11\n",
       "$double.min.exp\n",
       ":   -1022\n",
       "$double.max.exp\n",
       ":   1024\n",
       "$integer.max\n",
       ":   2147483647\n",
       "$sizeof.long\n",
       ":   8\n",
       "$sizeof.longlong\n",
       ":   8\n",
       "$sizeof.longdouble\n",
       ":   16\n",
       "$sizeof.pointer\n",
       ":   8\n",
       "$longdouble.eps\n",
       ":   1.0842021724855e-19\n",
       "$longdouble.neg.eps\n",
       ":   5.42101086242752e-20\n",
       "$longdouble.digits\n",
       ":   64\n",
       "$longdouble.rounding\n",
       ":   5\n",
       "$longdouble.guard\n",
       ":   0\n",
       "$longdouble.ulp.digits\n",
       ":   -63\n",
       "$longdouble.neg.ulp.digits\n",
       ":   -64\n",
       "$longdouble.exponent\n",
       ":   15\n",
       "$longdouble.min.exp\n",
       ":   -16382\n",
       "$longdouble.max.exp\n",
       ":   16384\n",
       "\n",
       "\n"
      ],
      "text/plain": [
       "$double.eps\n",
       "[1] 2.2204460492503130808e-16\n",
       "\n",
       "$double.neg.eps\n",
       "[1] 1.1102230246251565404e-16\n",
       "\n",
       "$double.xmin\n",
       "[1] 2.2250738585072013831e-308\n",
       "\n",
       "$double.xmax\n",
       "[1] 1.7976931348623157081e+308\n",
       "\n",
       "$double.base\n",
       "[1] 2\n",
       "\n",
       "$double.digits\n",
       "[1] 53\n",
       "\n",
       "$double.rounding\n",
       "[1] 5\n",
       "\n",
       "$double.guard\n",
       "[1] 0\n",
       "\n",
       "$double.ulp.digits\n",
       "[1] -52\n",
       "\n",
       "$double.neg.ulp.digits\n",
       "[1] -53\n",
       "\n",
       "$double.exponent\n",
       "[1] 11\n",
       "\n",
       "$double.min.exp\n",
       "[1] -1022\n",
       "\n",
       "$double.max.exp\n",
       "[1] 1024\n",
       "\n",
       "$integer.max\n",
       "[1] 2147483647\n",
       "\n",
       "$sizeof.long\n",
       "[1] 8\n",
       "\n",
       "$sizeof.longlong\n",
       "[1] 8\n",
       "\n",
       "$sizeof.longdouble\n",
       "[1] 16\n",
       "\n",
       "$sizeof.pointer\n",
       "[1] 8\n",
       "\n",
       "$longdouble.eps\n",
       "[1] 1.084202172485504434e-19\n",
       "\n",
       "$longdouble.neg.eps\n",
       "[1] 5.42101086242752217e-20\n",
       "\n",
       "$longdouble.digits\n",
       "[1] 64\n",
       "\n",
       "$longdouble.rounding\n",
       "[1] 5\n",
       "\n",
       "$longdouble.guard\n",
       "[1] 0\n",
       "\n",
       "$longdouble.ulp.digits\n",
       "[1] -63\n",
       "\n",
       "$longdouble.neg.ulp.digits\n",
       "[1] -64\n",
       "\n",
       "$longdouble.exponent\n",
       "[1] 15\n",
       "\n",
       "$longdouble.min.exp\n",
       "[1] -16382\n",
       "\n",
       "$longdouble.max.exp\n",
       "[1] 16384\n"
      ]
     },
     "metadata": {},
     "output_type": "display_data"
    }
   ],
   "source": [
    ".Machine"
   ]
  },
  {
   "cell_type": "markdown",
   "metadata": {},
   "source": [
    "### Floating point arithmetic\n",
    "\n",
    "The IEEE 754 standard guarantees that the arithmetic operations involving floating point numbers is so that the operation result in the floating point representation of the exact arithmetric of the involved floating point numbers. For example, suppose $x$ and $y$ are two exact real numbers. Let $[x]$ and $[y]$ be their floating point representation, after the appropriate rounding. Then, the addition of these two numbers is computed like the following.\n",
    "$$\n",
    "\\begin{split}\n",
    "    z &= [x] + [y] \\quad \\text{(exact arithmetric)}\n",
    "    \\\\\n",
    "    z &\\gets [z] \\quad \\text{(rounding)}\n",
    "\\end{split}\n",
    "$$"
   ]
  },
  {
   "cell_type": "markdown",
   "metadata": {},
   "source": [
    "### Overflow and underflow of floating-point number\n",
    "\n",
    "* For double precision, the range is $\\pm 10^{\\pm 308}$. In most situations, underflow (magnitude of result is less than $10^{-308}$) is preferred over overflow (magnitude of result is larger than $10^{+308}$). Overflow produces $\\pm \\inf$. Underflow yields zeros or denormalized numbers. \n",
    "\n",
    "* E.g., the logit link function is\n",
    "$$p = \\frac{\\exp (x^T \\beta)}{1 + \\exp (x^T \\beta)} = \\frac{1}{1+\\exp(- x^T \\beta)}.$$\n",
    "The former expression can easily lead to `Inf / Inf = NaN`, while the latter expression leads to gradual underflow.\n",
    "\n",
    "* `.Machine$double.xmax` and `.Machine$double.xmin` functions gives largest and smallest _non-subnormal_ number represented by the given floating point type."
   ]
  },
  {
   "cell_type": "markdown",
   "metadata": {},
   "source": [
    "## Catastrophic cancellation\n",
    "\n",
    "* **Scenario 1**: Addition or subtraction of two numbers of widely different magnitudes: $a+b$ or $a-b$ where $a \\gg b$ or $a \\ll b$. We lose the precision in the number of smaller magnitude. Consider \n",
    "$$\\begin{eqnarray*}\n",
    "    a &=& x.xxx ... \\times 2^{30} \\\\  \n",
    "    b &=& y.yyy... \\times 2^{-30}\n",
    "\\end{eqnarray*}$$\n",
    "What happens when computer calculates $a+b$? We get $a+b=a$!"
   ]
  },
  {
   "cell_type": "code",
   "execution_count": 26,
   "metadata": {
    "vscode": {
     "languageId": "r"
    }
   },
   "outputs": [
    {
     "data": {
      "text/html": [
       "1073741824"
      ],
      "text/latex": [
       "1073741824"
      ],
      "text/markdown": [
       "1073741824"
      ],
      "text/plain": [
       "[1] 1073741824"
      ]
     },
     "metadata": {},
     "output_type": "display_data"
    },
    {
     "data": {
      "text/html": [
       "9.31322574615479e-10"
      ],
      "text/latex": [
       "9.31322574615479e-10"
      ],
      "text/markdown": [
       "9.31322574615479e-10"
      ],
      "text/plain": [
       "[1] 9.3132257461547851562e-10"
      ]
     },
     "metadata": {},
     "output_type": "display_data"
    },
    {
     "data": {
      "text/html": [
       "TRUE"
      ],
      "text/latex": [
       "TRUE"
      ],
      "text/markdown": [
       "TRUE"
      ],
      "text/plain": [
       "[1] TRUE"
      ]
     },
     "metadata": {},
     "output_type": "display_data"
    },
    {
     "data": {
      "text/html": [
       "'01000001 11010000 00000000 00000000 00000000 00000000 00000000 00000000'"
      ],
      "text/latex": [
       "'01000001 11010000 00000000 00000000 00000000 00000000 00000000 00000000'"
      ],
      "text/markdown": [
       "'01000001 11010000 00000000 00000000 00000000 00000000 00000000 00000000'"
      ],
      "text/plain": [
       "[1] \"01000001 11010000 00000000 00000000 00000000 00000000 00000000 00000000\""
      ]
     },
     "metadata": {},
     "output_type": "display_data"
    },
    {
     "data": {
      "text/html": [
       "'01000001 11010000 00000000 00000000 00000000 00000000 00000000 00000000'"
      ],
      "text/latex": [
       "'01000001 11010000 00000000 00000000 00000000 00000000 00000000 00000000'"
      ],
      "text/markdown": [
       "'01000001 11010000 00000000 00000000 00000000 00000000 00000000 00000000'"
      ],
      "text/plain": [
       "[1] \"01000001 11010000 00000000 00000000 00000000 00000000 00000000 00000000\""
      ]
     },
     "metadata": {},
     "output_type": "display_data"
    }
   ],
   "source": [
    "(a <- 2.0^30)\n",
    "(b <- 2.0^-30)\n",
    "(a + b == a)\n",
    "pryr::bits(a)\n",
    "pryr::bits(a + b)"
   ]
  },
  {
   "cell_type": "markdown",
   "metadata": {},
   "source": [
    "Analysis: suppose we want to compute $x + y$, $x, y > 0$. Let the relative error of $x$ and $y$ be\n",
    "$$\n",
    "\\delta_x = \\frac{[x] - x}{x},\n",
    "\\quad\n",
    "\\delta_y = \\frac{[y] - y}{y}\n",
    ".\n",
    "$$\n",
    "What the computer actually calculates is $[x] + [y]$, which in turn is represented by $[ [x] + [y] ]$. The relative error of this representation is\n",
    "$$\n",
    "\\delta_{\\text{sum}} = \\frac{[[x]+[y]] - ([x]+[y])}{[x]+[y]}\n",
    ".\n",
    "$$\n",
    "Recall that $|\\delta_x|, |\\delta_y|, |\\delta_{\\text{sum}}| \\le \\epsilon_{\\max}$.\n",
    "\n",
    "We want to find a bound of the relative error of $[[x]+[y]]$ with respect to $x+y$.\n",
    "Since $|[x]+[y]| = |x(1+\\delta_x) + y(1+\\delta_y)| \\le |x+y|(1+\\epsilon_{\\max})$, we have\n",
    "$$\n",
    "\\begin{split}\n",
    "| [[x]+[y]]-(x+y) | &= | [[x]+[y]] - [x] - [y] + [x] - x + [y] - y | \\\\\n",
    "                   &\\le | [[x]+[y]] - [x] - [y] | +  | [x] - x | + | [y] - y | \\\\\n",
    "                   &\\le |\\delta_{\\text{sum}}([x]+[y])| + |\\delta_x x| + |\\delta_y y| \\\\\n",
    "                   &\\le \\epsilon_{\\max}(x+y)(1+\\epsilon_{\\max}) + \\epsilon_{\\max}x + \\epsilon_{\\max}y \\\\\n",
    "                   &\\approx 2\\epsilon_{\\max}(x+y)\n",
    "\\end{split}\n",
    "$$\n",
    "because $\\epsilon_{\\max}^2 \\approx 0$. Thus\n",
    "$$\n",
    "\\frac{| [[x]+[y]]-(x+y) |}{|x+y|} \\le 2\\epsilon_{\\max}\n",
    "$$\n",
    "approximately."
   ]
  },
  {
   "cell_type": "markdown",
   "metadata": {},
   "source": [
    "* **Scenario 2**: Subtraction of two nearly equal numbers eliminates significant digits.  $a-b$ where $a \\approx b$. Consider \n",
    "$$\\begin{eqnarray*}\n",
    "    a &=& x.xxxxxxxxxx1ssss  \\\\\n",
    "    b &=& x.xxxxxxxxxx0tttt\n",
    "\\end{eqnarray*}$$\n",
    "The result is $1.vvvvu...u$ where $u$ are unassigned digits."
   ]
  },
  {
   "cell_type": "code",
   "execution_count": 27,
   "metadata": {
    "vscode": {
     "languageId": "r"
    }
   },
   "outputs": [
    {
     "data": {
      "text/html": [
       "'00111111 10011110 00000110 01010001'"
      ],
      "text/latex": [
       "'00111111 10011110 00000110 01010001'"
      ],
      "text/markdown": [
       "'00111111 10011110 00000110 01010001'"
      ],
      "text/plain": [
       "[1] \"00111111 10011110 00000110 01010001\""
      ]
     },
     "metadata": {},
     "output_type": "display_data"
    },
    {
     "data": {
      "text/html": [
       "'00111111 10011110 00000110 01010000'"
      ],
      "text/latex": [
       "'00111111 10011110 00000110 01010000'"
      ],
      "text/markdown": [
       "'00111111 10011110 00000110 01010000'"
      ],
      "text/plain": [
       "[1] \"00111111 10011110 00000110 01010000\""
      ]
     },
     "metadata": {},
     "output_type": "display_data"
    },
    {
     "name": "stdout",
     "output_type": "stream",
     "text": [
      "[1] 1.1920928955078125e-07\n"
     ]
    },
    {
     "data": {
      "text/html": [
       "'00110100 00000000 00000000 00000000'"
      ],
      "text/latex": [
       "'00110100 00000000 00000000 00000000'"
      ],
      "text/markdown": [
       "'00110100 00000000 00000000 00000000'"
      ],
      "text/plain": [
       "[1] \"00110100 00000000 00000000 00000000\""
      ]
     },
     "metadata": {},
     "output_type": "display_data"
    },
    {
     "name": "stdout",
     "output_type": "stream",
     "text": [
      "[1] 1.1920928955078125e-07\n"
     ]
    }
   ],
   "source": [
    "olddigits <- options('digits')$digits\n",
    "options(digits=20)\n",
    "\n",
    "a <- float::fl(1.2345678) # rounding\n",
    "pryr::bits(float32bin(as.double(a))) # rounding\n",
    "b <- float::fl(1.2345677)\n",
    "pryr::bits(float32bin(as.double(b)))\n",
    "print(as.double(a - b)) # correct result should be 1f-7\n",
    "pryr::bits(float32bin(as.double(a - b)))   # must be 1.0000...0 x 2^(-23)\n",
    "print(1/2^23)\n",
    "\n",
    "options(digits=olddigits)"
   ]
  },
  {
   "cell_type": "markdown",
   "metadata": {},
   "source": [
    "Analysis: Let\n",
    "$$\n",
    "[x] = 1 + \\sum_{i=1}^{p-2}\\frac{d_{i+1}}{2^i} + \\frac{1}{2^{p-1}},\n",
    "\\quad\n",
    "[y] = 1 + \\sum_{i=1}^{p-2}\\frac{d_{i+1}}{2^i} + \\frac{0}{2^{p-1}}\n",
    ".\n",
    "$$\n",
    "\n",
    "* $[x]-[y] = \\frac{1}{2^{p-1}} = [[x]-[y]]$.\n",
    "\n",
    "* The true difference $x-y$ may lie anywhere in $(0, \\frac{1}{2^{p-2}}+\\frac{1}{2^{2p}}]$.\n",
    "\n",
    "* Relative error \n",
    "$$\n",
    "\\frac{|x-y -[[x]-[y]]|}{|x-y|}\n",
    "$$\n",
    "is unbounded -- no guarantee of any significant digit!"
   ]
  },
  {
   "cell_type": "markdown",
   "metadata": {},
   "source": [
    "* Implications for numerical computation\n",
    "    - Rule 1: add small numbers together before adding larger ones  \n",
    "    - Rule 2: add numbers of like magnitude together (paring). When all numbers are of same sign and similar magnitude, add in pairs so each stage the summands are of similar magnitude  \n",
    "    - Rule 3: avoid substraction of two numbers that are nearly equal\n",
    "        + Example: in solving quadratic equation $ax^2 + bx + c = 0$ with $b > 0$ and $b^2 - 4ac > 0$, the roots are\n",
    "        $$\n",
    "            x = \\frac{-b \\pm \\sqrt{b^2 - 4ac}}{2a}\n",
    "            .\n",
    "        $$\n",
    "        If $b \\approx \\sqrt{b^2 - 4ac}$, then a scenario 2 occurs. A resolution is to compute only one root $x_1 = \\frac{-b - \\sqrt{b^2 - 4ac}}{2a}$ by the formula, and find the other root $x_2$ using the relation $x_1x_2 = c/a$."
   ]
  },
  {
   "cell_type": "markdown",
   "metadata": {},
   "source": [
    "### Algebraic laws\n",
    "\n",
    "Floating-point numbers may violate many algebraic laws we are familiar with, such associative and distributive laws. See the example in the Machine Epsilon section and HW1."
   ]
  },
  {
   "cell_type": "markdown",
   "metadata": {},
   "source": [
    "## Coditioning\n",
    "\n",
    "Condiser solving a linear system $Ax=b$:\n",
    "\n",
    "$$\n",
    "\\begin{bmatrix} 1.000 & 0.500 \\\\ 0.667 & 0.333 \\end{bmatrix}\n",
    "\\begin{bmatrix} x_1 \\\\ x_2 \\end{bmatrix}\n",
    "=\n",
    "\\begin{bmatrix} 1.500 \\\\ 1.000 \\end{bmatrix}\n",
    ",\n",
    "$$\n",
    "\n",
    "whose solution is $(x_1, x_2) = (1.000, 1.000)$."
   ]
  },
  {
   "cell_type": "code",
   "execution_count": 28,
   "metadata": {
    "vscode": {
     "languageId": "r"
    }
   },
   "outputs": [
    {
     "data": {
      "text/html": [
       "<style>\n",
       ".list-inline {list-style: none; margin:0; padding: 0}\n",
       ".list-inline>li {display: inline-block}\n",
       ".list-inline>li:not(:last-child)::after {content: \"\\00b7\"; padding: 0 .5ex}\n",
       "</style>\n",
       "<ol class=list-inline><li>0.999999999999944</li><li>1.00000000000011</li></ol>\n"
      ],
      "text/latex": [
       "\\begin{enumerate*}\n",
       "\\item 0.999999999999944\n",
       "\\item 1.00000000000011\n",
       "\\end{enumerate*}\n"
      ],
      "text/markdown": [
       "1. 0.999999999999944\n",
       "2. 1.00000000000011\n",
       "\n",
       "\n"
      ],
      "text/plain": [
       "[1] 0.99999999999994448885 1.00000000000011102230"
      ]
     },
     "metadata": {},
     "output_type": "display_data"
    }
   ],
   "source": [
    "A <- matrix(c(1.0, 0.667, 0.5, 0.333), nrow=2)\n",
    "b <- c(1.5, 1.0)\n",
    "solve(A, b)"
   ]
  },
  {
   "cell_type": "markdown",
   "metadata": {},
   "source": [
    "If we *perturb* $b$ by 0.001, i.e., solve\n",
    "\n",
    "$$\n",
    "\\begin{bmatrix} 1.000 & 0.500 \\\\ 0.667 & 0.333 \\end{bmatrix}\n",
    "\\begin{bmatrix} x_1 \\\\ x_2 \\end{bmatrix}\n",
    "=\n",
    "\\begin{bmatrix} 1.500 \\\\ 0.999 \\end{bmatrix}\n",
    ",\n",
    "$$\n",
    "\n",
    "then the solution changes to $(x_1, x_2) = (0.000, 3.000)$."
   ]
  },
  {
   "cell_type": "code",
   "execution_count": 29,
   "metadata": {
    "vscode": {
     "languageId": "r"
    }
   },
   "outputs": [
    {
     "data": {
      "text/html": [
       "<style>\n",
       ".list-inline {list-style: none; margin:0; padding: 0}\n",
       ".list-inline>li {display: inline-block}\n",
       ".list-inline>li:not(:last-child)::after {content: \"\\00b7\"; padding: 0 .5ex}\n",
       "</style>\n",
       "<ol class=list-inline><li>-5.55111512312578e-14</li><li>3.00000000000011</li></ol>\n"
      ],
      "text/latex": [
       "\\begin{enumerate*}\n",
       "\\item -5.55111512312578e-14\n",
       "\\item 3.00000000000011\n",
       "\\end{enumerate*}\n"
      ],
      "text/markdown": [
       "1. -5.55111512312578e-14\n",
       "2. 3.00000000000011\n",
       "\n",
       "\n"
      ],
      "text/plain": [
       "[1] -5.5511151231257827021e-14  3.0000000000001110223e+00"
      ]
     },
     "metadata": {},
     "output_type": "display_data"
    }
   ],
   "source": [
    "b1 <- c(1.5, 0.999)\n",
    "solve(A, b1)"
   ]
  },
  {
   "cell_type": "markdown",
   "metadata": {},
   "source": [
    "If we instead perturb $A$ by 0.001, i.e., solve\n",
    "\n",
    "$$\n",
    "\\begin{bmatrix} 1.000 & 0.500 \\\\ 0.667 & 0.334 \\end{bmatrix}\n",
    "\\begin{bmatrix} x_1 \\\\ x_2 \\end{bmatrix}\n",
    "=\n",
    "\\begin{bmatrix} 1.500 \\\\ 1.000 \\end{bmatrix}\n",
    ",\n",
    "$$\n",
    "\n",
    "then this time the solution changes to $(x_1, x_2) = (2.000, -1.000)$."
   ]
  },
  {
   "cell_type": "code",
   "execution_count": 30,
   "metadata": {
    "vscode": {
     "languageId": "r"
    }
   },
   "outputs": [
    {
     "data": {
      "text/html": [
       "<style>\n",
       ".list-inline {list-style: none; margin:0; padding: 0}\n",
       ".list-inline>li {display: inline-block}\n",
       ".list-inline>li:not(:last-child)::after {content: \"\\00b7\"; padding: 0 .5ex}\n",
       "</style>\n",
       "<ol class=list-inline><li>2.00000000000006</li><li>-1.00000000000011</li></ol>\n"
      ],
      "text/latex": [
       "\\begin{enumerate*}\n",
       "\\item 2.00000000000006\n",
       "\\item -1.00000000000011\n",
       "\\end{enumerate*}\n"
      ],
      "text/markdown": [
       "1. 2.00000000000006\n",
       "2. -1.00000000000011\n",
       "\n",
       "\n"
      ],
      "text/plain": [
       "[1]  2.0000000000000555112 -1.0000000000001110223"
      ]
     },
     "metadata": {},
     "output_type": "display_data"
    }
   ],
   "source": [
    "A1 <- matrix(c(1.0, 0.667, 0.5, 0.334), nrow=2)\n",
    "solve(A1, b)"
   ]
  },
  {
   "cell_type": "markdown",
   "metadata": {},
   "source": [
    "In other words, an input perturbation of order $10^{-3}$ yield an output perturbation of order $10^0$. Thats 3 orders of magnutides of relative change!\n",
    "\n",
    "Floating point representation $[x]$ of a real number $x$ in a digital computer may introduce such input perturbation easily. The perturbation of output of a problem with respect to the input is called *conditioning*."
   ]
  },
  {
   "cell_type": "markdown",
   "metadata": {},
   "source": [
    "* Abstractly, a *problem* can be viewed as function $f: X \\to Y$ where $X$ is a normed vector space of data and $Y$ is a normed vector space of solutions.\n",
    "    - The problem of solving $Ax=b$ for fixed $b$ is $f: A \\mapsto A^{-1}b$ with $X=\\{M\\in\\mathbb{R}^{n\\times n}: M \\text{ is invertible} \\}$ and $Y = \\mathbb{R}^n$.\n",
    "    - The combination of a problem $f$ with a given data $x$ is called a *problem instance*, or simply problem unless no confusion occurs.\n",
    "    \n",
    "* A *well-conditioned* problem (instance) is one such that all small perturbations of $x$ lead to only small changes in $f(x)$.\n",
    "\n",
    "* An *ill-conditioned* problem is one such that some small perturbation of $x$ leads to a large change in $f(x)$.\n",
    "\n",
    "* The (relative) *condition number* $\\kappa=\\kappa(x)$ of a problem is defined by\n",
    "$$\n",
    "    \\kappa = \\lim_{\\delta\\to 0}\\sup_{\\|\\delta x\\|\\le \\delta}\\frac{\\|\\delta f\\|/\\|f(x)\\|}{\\|\\delta x\\|/\\|x\\|}\n",
    "    = \\sup_{\\delta x} \\frac{\\|\\delta f\\|/\\|f(x)\\|}{\\|\\delta x\\|/\\|x\\|}\n",
    "$$\n",
    "\n",
    "* For the problem of solving $Ax=b$ for fixed $b$,  $f: A \\mapsto A^{-1}b$, it can be shown that the condition number of $f$ is\n",
    "$$\n",
    "    \\kappa = \\|A\\|\\|A^{-1}\\| =: \\kappa(A)\n",
    "    ,\n",
    "$$\n",
    "where $\\|A\\|$ is the matrix norm induced by vector norm $\\|\\cdot\\|$, i.e.,\n",
    "$$\n",
    "    \\|A\\| = \\sup_{x\\neq 0} \\frac{\\|Ax\\|}{\\|x\\|}.\n",
    "$$\n",
    "If 2-norm is used, then \n",
    "$$\n",
    "\\kappa(A) = \\sigma_{\\max}(A)/\\sigma_{\\min}(A),\n",
    "$$\n",
    "the ratio of the maximum and minimum singular values of $A$. "
   ]
  },
  {
   "cell_type": "markdown",
   "metadata": {},
   "source": [
    "In the above problem, the condition number is matrix $A$ (w.r.t. Euclidean norm) is"
   ]
  },
  {
   "cell_type": "code",
   "execution_count": 31,
   "metadata": {
    "vscode": {
     "languageId": "r"
    }
   },
   "outputs": [
    {
     "data": {
      "text/html": [
       "4333.00046136207"
      ],
      "text/latex": [
       "4333.00046136207"
      ],
      "text/markdown": [
       "4333.00046136207"
      ],
      "text/plain": [
       "[1] 4333.0004613620694727"
      ]
     },
     "metadata": {},
     "output_type": "display_data"
    }
   ],
   "source": [
    "kappa(A)"
   ]
  },
  {
   "cell_type": "markdown",
   "metadata": {},
   "source": [
    "## Further readings\n",
    "\n",
    "* Section II.2, [Computational Statistics](https://link.springer.com/book/10.1007%2F978-0-387-98144-4) by James Gentle (2009).\n",
    "\n",
    "* Sections 1.5 and 2.2, [Applied Numerical Linear Algebra](https://doi.org/10.1137/1.9781611971446) by James W. Demmel (1997).\n",
    "\n",
    "* [What every computer scientist should know about floating-point arithmetic](https://www.itu.dk/~sestoft/bachelor/IEEE754_article.pdf) by David Goldberg (1991)."
   ]
  }
 ],
 "metadata": {
  "kernelspec": {
   "display_name": "R",
   "language": "R",
   "name": "ir"
  },
  "language_info": {
   "codemirror_mode": "r",
   "file_extension": ".r",
   "mimetype": "text/x-r-source",
   "name": "R",
   "pygments_lexer": "r",
   "version": "4.2.2"
  },
  "toc": {
   "colors": {
    "hover_highlight": "#DAA520",
    "running_highlight": "#FF0000",
    "selected_highlight": "#FFD700"
   },
   "moveMenuLeft": true,
   "nav_menu": {
    "height": "250px",
    "width": "252px"
   },
   "navigate_menu": true,
   "number_sections": true,
   "sideBar": true,
   "skip_h1_title": true,
   "threshold": 4,
   "toc_cell": true,
   "toc_section_display": "block",
   "toc_window_display": true,
   "widenNotebook": false
  }
 },
 "nbformat": 4,
 "nbformat_minor": 4
}
